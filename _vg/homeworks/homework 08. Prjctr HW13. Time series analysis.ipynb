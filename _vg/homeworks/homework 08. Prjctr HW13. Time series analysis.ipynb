{
  "cells": [
    {
      "cell_type": "markdown",
      "metadata": {
        "id": "UMms33J4jeDZ"
      },
      "source": [
        "# Prjctr HW13. Time series analysis\n",
        "1. Train a baseline predictions with different statistics and various time windows, validate and make predictions on test set.\n",
        "2. Train a boosting model, validate and make predictions on test set. (optional)"
      ]
    },
    {
      "cell_type": "code",
      "execution_count": 2,
      "metadata": {},
      "outputs": [],
      "source": [
        "import numpy as np\n",
        "import pandas as pd\n",
        "import matplotlib.pyplot as plt\n",
        "\n",
        "from sklearn.preprocessing import StandardScaler"
      ]
    },
    {
      "cell_type": "code",
      "execution_count": 8,
      "metadata": {},
      "outputs": [],
      "source": [
        "train_file = r'C:\\Users\\De\\.kaggle\\predict-future-sales\\sales_train.csv'\n",
        "test_file = r'C:\\Users\\De\\.kaggle\\predict-future-sales\\test.csv'\n",
        "\n",
        "train_data = pd.read_csv(train_file)\n",
        "test_data = pd.read_csv(test_file)"
      ]
    },
    {
      "cell_type": "code",
      "execution_count": 12,
      "metadata": {},
      "outputs": [
        {
          "name": "stdout",
          "output_type": "stream",
          "text": [
            "<class 'pandas.core.frame.DataFrame'>\n",
            "RangeIndex: 2935849 entries, 0 to 2935848\n",
            "Data columns (total 6 columns):\n",
            " #   Column          Dtype  \n",
            "---  ------          -----  \n",
            " 0   date            object \n",
            " 1   date_block_num  int64  \n",
            " 2   shop_id         int64  \n",
            " 3   item_id         int64  \n",
            " 4   item_price      float64\n",
            " 5   item_cnt_day    float64\n",
            "dtypes: float64(2), int64(3), object(1)\n",
            "memory usage: 134.4+ MB\n",
            "None\n"
          ]
        },
        {
          "data": {
            "text/html": [
              "<div>\n",
              "<style scoped>\n",
              "    .dataframe tbody tr th:only-of-type {\n",
              "        vertical-align: middle;\n",
              "    }\n",
              "\n",
              "    .dataframe tbody tr th {\n",
              "        vertical-align: top;\n",
              "    }\n",
              "\n",
              "    .dataframe thead th {\n",
              "        text-align: right;\n",
              "    }\n",
              "</style>\n",
              "<table border=\"1\" class=\"dataframe\">\n",
              "  <thead>\n",
              "    <tr style=\"text-align: right;\">\n",
              "      <th></th>\n",
              "      <th>date</th>\n",
              "      <th>date_block_num</th>\n",
              "      <th>shop_id</th>\n",
              "      <th>item_id</th>\n",
              "      <th>item_price</th>\n",
              "      <th>item_cnt_day</th>\n",
              "    </tr>\n",
              "  </thead>\n",
              "  <tbody>\n",
              "    <tr>\n",
              "      <th>0</th>\n",
              "      <td>02.01.2013</td>\n",
              "      <td>0</td>\n",
              "      <td>59</td>\n",
              "      <td>22154</td>\n",
              "      <td>999.00</td>\n",
              "      <td>1.0</td>\n",
              "    </tr>\n",
              "    <tr>\n",
              "      <th>1</th>\n",
              "      <td>03.01.2013</td>\n",
              "      <td>0</td>\n",
              "      <td>25</td>\n",
              "      <td>2552</td>\n",
              "      <td>899.00</td>\n",
              "      <td>1.0</td>\n",
              "    </tr>\n",
              "    <tr>\n",
              "      <th>2</th>\n",
              "      <td>05.01.2013</td>\n",
              "      <td>0</td>\n",
              "      <td>25</td>\n",
              "      <td>2552</td>\n",
              "      <td>899.00</td>\n",
              "      <td>-1.0</td>\n",
              "    </tr>\n",
              "    <tr>\n",
              "      <th>3</th>\n",
              "      <td>06.01.2013</td>\n",
              "      <td>0</td>\n",
              "      <td>25</td>\n",
              "      <td>2554</td>\n",
              "      <td>1709.05</td>\n",
              "      <td>1.0</td>\n",
              "    </tr>\n",
              "    <tr>\n",
              "      <th>4</th>\n",
              "      <td>15.01.2013</td>\n",
              "      <td>0</td>\n",
              "      <td>25</td>\n",
              "      <td>2555</td>\n",
              "      <td>1099.00</td>\n",
              "      <td>1.0</td>\n",
              "    </tr>\n",
              "    <tr>\n",
              "      <th>...</th>\n",
              "      <td>...</td>\n",
              "      <td>...</td>\n",
              "      <td>...</td>\n",
              "      <td>...</td>\n",
              "      <td>...</td>\n",
              "      <td>...</td>\n",
              "    </tr>\n",
              "    <tr>\n",
              "      <th>2935844</th>\n",
              "      <td>10.10.2015</td>\n",
              "      <td>33</td>\n",
              "      <td>25</td>\n",
              "      <td>7409</td>\n",
              "      <td>299.00</td>\n",
              "      <td>1.0</td>\n",
              "    </tr>\n",
              "    <tr>\n",
              "      <th>2935845</th>\n",
              "      <td>09.10.2015</td>\n",
              "      <td>33</td>\n",
              "      <td>25</td>\n",
              "      <td>7460</td>\n",
              "      <td>299.00</td>\n",
              "      <td>1.0</td>\n",
              "    </tr>\n",
              "    <tr>\n",
              "      <th>2935846</th>\n",
              "      <td>14.10.2015</td>\n",
              "      <td>33</td>\n",
              "      <td>25</td>\n",
              "      <td>7459</td>\n",
              "      <td>349.00</td>\n",
              "      <td>1.0</td>\n",
              "    </tr>\n",
              "    <tr>\n",
              "      <th>2935847</th>\n",
              "      <td>22.10.2015</td>\n",
              "      <td>33</td>\n",
              "      <td>25</td>\n",
              "      <td>7440</td>\n",
              "      <td>299.00</td>\n",
              "      <td>1.0</td>\n",
              "    </tr>\n",
              "    <tr>\n",
              "      <th>2935848</th>\n",
              "      <td>03.10.2015</td>\n",
              "      <td>33</td>\n",
              "      <td>25</td>\n",
              "      <td>7460</td>\n",
              "      <td>299.00</td>\n",
              "      <td>1.0</td>\n",
              "    </tr>\n",
              "  </tbody>\n",
              "</table>\n",
              "<p>2935849 rows × 6 columns</p>\n",
              "</div>"
            ],
            "text/plain": [
              "               date  date_block_num  shop_id  item_id  item_price  \\\n",
              "0        02.01.2013               0       59    22154      999.00   \n",
              "1        03.01.2013               0       25     2552      899.00   \n",
              "2        05.01.2013               0       25     2552      899.00   \n",
              "3        06.01.2013               0       25     2554     1709.05   \n",
              "4        15.01.2013               0       25     2555     1099.00   \n",
              "...             ...             ...      ...      ...         ...   \n",
              "2935844  10.10.2015              33       25     7409      299.00   \n",
              "2935845  09.10.2015              33       25     7460      299.00   \n",
              "2935846  14.10.2015              33       25     7459      349.00   \n",
              "2935847  22.10.2015              33       25     7440      299.00   \n",
              "2935848  03.10.2015              33       25     7460      299.00   \n",
              "\n",
              "         item_cnt_day  \n",
              "0                 1.0  \n",
              "1                 1.0  \n",
              "2                -1.0  \n",
              "3                 1.0  \n",
              "4                 1.0  \n",
              "...               ...  \n",
              "2935844           1.0  \n",
              "2935845           1.0  \n",
              "2935846           1.0  \n",
              "2935847           1.0  \n",
              "2935848           1.0  \n",
              "\n",
              "[2935849 rows x 6 columns]"
            ]
          },
          "execution_count": 12,
          "metadata": {},
          "output_type": "execute_result"
        }
      ],
      "source": [
        "print(train_data.info())\n",
        "train_data"
      ]
    },
    {
      "cell_type": "code",
      "execution_count": 18,
      "metadata": {},
      "outputs": [
        {
          "name": "stdout",
          "output_type": "stream",
          "text": [
            "<class 'pandas.core.frame.DataFrame'>\n",
            "RangeIndex: 214200 entries, 0 to 214199\n",
            "Data columns (total 3 columns):\n",
            " #   Column   Non-Null Count   Dtype\n",
            "---  ------   --------------   -----\n",
            " 0   ID       214200 non-null  int64\n",
            " 1   shop_id  214200 non-null  int64\n",
            " 2   item_id  214200 non-null  int64\n",
            "dtypes: int64(3)\n",
            "memory usage: 4.9 MB\n",
            "None\n"
          ]
        },
        {
          "data": {
            "text/html": [
              "<div>\n",
              "<style scoped>\n",
              "    .dataframe tbody tr th:only-of-type {\n",
              "        vertical-align: middle;\n",
              "    }\n",
              "\n",
              "    .dataframe tbody tr th {\n",
              "        vertical-align: top;\n",
              "    }\n",
              "\n",
              "    .dataframe thead th {\n",
              "        text-align: right;\n",
              "    }\n",
              "</style>\n",
              "<table border=\"1\" class=\"dataframe\">\n",
              "  <thead>\n",
              "    <tr style=\"text-align: right;\">\n",
              "      <th></th>\n",
              "      <th>ID</th>\n",
              "      <th>shop_id</th>\n",
              "      <th>item_id</th>\n",
              "    </tr>\n",
              "  </thead>\n",
              "  <tbody>\n",
              "    <tr>\n",
              "      <th>0</th>\n",
              "      <td>0</td>\n",
              "      <td>5</td>\n",
              "      <td>5037</td>\n",
              "    </tr>\n",
              "    <tr>\n",
              "      <th>1</th>\n",
              "      <td>1</td>\n",
              "      <td>5</td>\n",
              "      <td>5320</td>\n",
              "    </tr>\n",
              "    <tr>\n",
              "      <th>2</th>\n",
              "      <td>2</td>\n",
              "      <td>5</td>\n",
              "      <td>5233</td>\n",
              "    </tr>\n",
              "    <tr>\n",
              "      <th>3</th>\n",
              "      <td>3</td>\n",
              "      <td>5</td>\n",
              "      <td>5232</td>\n",
              "    </tr>\n",
              "    <tr>\n",
              "      <th>4</th>\n",
              "      <td>4</td>\n",
              "      <td>5</td>\n",
              "      <td>5268</td>\n",
              "    </tr>\n",
              "    <tr>\n",
              "      <th>...</th>\n",
              "      <td>...</td>\n",
              "      <td>...</td>\n",
              "      <td>...</td>\n",
              "    </tr>\n",
              "    <tr>\n",
              "      <th>214195</th>\n",
              "      <td>214195</td>\n",
              "      <td>45</td>\n",
              "      <td>18454</td>\n",
              "    </tr>\n",
              "    <tr>\n",
              "      <th>214196</th>\n",
              "      <td>214196</td>\n",
              "      <td>45</td>\n",
              "      <td>16188</td>\n",
              "    </tr>\n",
              "    <tr>\n",
              "      <th>214197</th>\n",
              "      <td>214197</td>\n",
              "      <td>45</td>\n",
              "      <td>15757</td>\n",
              "    </tr>\n",
              "    <tr>\n",
              "      <th>214198</th>\n",
              "      <td>214198</td>\n",
              "      <td>45</td>\n",
              "      <td>19648</td>\n",
              "    </tr>\n",
              "    <tr>\n",
              "      <th>214199</th>\n",
              "      <td>214199</td>\n",
              "      <td>45</td>\n",
              "      <td>969</td>\n",
              "    </tr>\n",
              "  </tbody>\n",
              "</table>\n",
              "<p>214200 rows × 3 columns</p>\n",
              "</div>"
            ],
            "text/plain": [
              "            ID  shop_id  item_id\n",
              "0            0        5     5037\n",
              "1            1        5     5320\n",
              "2            2        5     5233\n",
              "3            3        5     5232\n",
              "4            4        5     5268\n",
              "...        ...      ...      ...\n",
              "214195  214195       45    18454\n",
              "214196  214196       45    16188\n",
              "214197  214197       45    15757\n",
              "214198  214198       45    19648\n",
              "214199  214199       45      969\n",
              "\n",
              "[214200 rows x 3 columns]"
            ]
          },
          "execution_count": 18,
          "metadata": {},
          "output_type": "execute_result"
        }
      ],
      "source": [
        "print(test_data.info())\n",
        "test_data"
      ]
    },
    {
      "cell_type": "code",
      "execution_count": 28,
      "metadata": {},
      "outputs": [
        {
          "name": "stdout",
          "output_type": "stream",
          "text": [
            "date: 2013-01-01 2015-10-31\n",
            "date_block_num: 0 33\n",
            "item_cnt_day: 0 20\n",
            "item_cnt_day: 0 20\n"
          ]
        }
      ],
      "source": [
        "train_data['date'] = pd.to_datetime(train_data.date, format='%d.%m.%Y').dt.date\n",
        "\n",
        "print('date:', train_data.date.min(), train_data.date.max())\n",
        "print('date_block_num:', train_data.date_block_num.min(), train_data.date_block_num.max())\n",
        "print('item_cnt_day:', train_data.item_cnt_day.min(), train_data.item_cnt_day.max())\n",
        "\n",
        "train_data.item_cnt_day = train_data.item_cnt_day.clip(0,20).astype(int)\n",
        "print('item_cnt_day:', train_data.item_cnt_day.min(), train_data.item_cnt_day.max())\n"
      ]
    },
    {
      "cell_type": "code",
      "execution_count": 23,
      "metadata": {},
      "outputs": [
        {
          "data": {
            "text/plain": [
              "item_cnt_day\n",
              "1     0.895609\n",
              "2     0.066148\n",
              "3     0.016128\n",
              "4     0.006705\n",
              "5     0.003568\n",
              "0     0.002506\n",
              "6     0.002159\n",
              "7     0.001382\n",
              "20    0.001287\n",
              "8     0.000989\n",
              "9     0.000742\n",
              "10    0.000620\n",
              "11    0.000430\n",
              "12    0.000369\n",
              "13    0.000313\n",
              "14    0.000244\n",
              "15    0.000217\n",
              "16    0.000185\n",
              "17    0.000149\n",
              "18    0.000133\n",
              "19    0.000118\n",
              "Name: proportion, dtype: float64"
            ]
          },
          "execution_count": 23,
          "metadata": {},
          "output_type": "execute_result"
        }
      ],
      "source": [
        "train_data.item_cnt_day.value_counts(normalize=True)"
      ]
    },
    {
      "cell_type": "code",
      "execution_count": 42,
      "metadata": {},
      "outputs": [
        {
          "data": {
            "text/plain": [
              "<Axes: >"
            ]
          },
          "execution_count": 42,
          "metadata": {},
          "output_type": "execute_result"
        },
        {
          "data": {
            "image/png": "[encoded data removed]",
            "text/plain": [
              "<Figure size 640x480 with 1 Axes>"
            ]
          },
          "metadata": {},
          "output_type": "display_data"
        }
      ],
      "source": [
        "train_data[train_data['item_price'] < 5000]['item_price'].hist(bins=100)"
      ]
    },
    {
      "cell_type": "code",
      "execution_count": 54,
      "metadata": {},
      "outputs": [
        {
          "data": {
            "text/plain": [
              "<Axes: >"
            ]
          },
          "execution_count": 54,
          "metadata": {},
          "output_type": "execute_result"
        },
        {
          "data": {
            "image/png": "[encoded data removed]",
            "text/plain": [
              "<Figure size 640x480 with 1 Axes>"
            ]
          },
          "metadata": {},
          "output_type": "display_data"
        }
      ],
      "source": [
        "train_data[(train_data['item_price'] >= 5000) & (train_data['item_price'] < 35000)]['item_price'].hist(bins=100)"
      ]
    },
    {
      "cell_type": "code",
      "execution_count": 48,
      "metadata": {},
      "outputs": [
        {
          "data": {
            "text/plain": [
              "<Axes: >"
            ]
          },
          "execution_count": 48,
          "metadata": {},
          "output_type": "execute_result"
        },
        {
          "data": {
            "image/png": "[encoded data removed]",
            "text/plain": [
              "<Figure size 640x480 with 1 Axes>"
            ]
          },
          "metadata": {},
          "output_type": "display_data"
        }
      ],
      "source": [
        "train_data[train_data['item_price'] >= 35000]['item_price'].hist(bins=100)"
      ]
    },
    {
      "cell_type": "code",
      "execution_count": 11,
      "metadata": {},
      "outputs": [
        {
          "data": {
            "text/plain": [
              "date              0\n",
              "date_block_num    0\n",
              "shop_id           0\n",
              "item_id           0\n",
              "item_price        0\n",
              "item_cnt_day      0\n",
              "dtype: int64"
            ]
          },
          "execution_count": 11,
          "metadata": {},
          "output_type": "execute_result"
        }
      ],
      "source": [
        "train_data.isnull().sum(axis=0)"
      ]
    },
    {
      "cell_type": "code",
      "execution_count": 56,
      "metadata": {},
      "outputs": [
        {
          "data": {
            "text/html": [
              "<div>\n",
              "<style scoped>\n",
              "    .dataframe tbody tr th:only-of-type {\n",
              "        vertical-align: middle;\n",
              "    }\n",
              "\n",
              "    .dataframe tbody tr th {\n",
              "        vertical-align: top;\n",
              "    }\n",
              "\n",
              "    .dataframe thead th {\n",
              "        text-align: right;\n",
              "    }\n",
              "</style>\n",
              "<table border=\"1\" class=\"dataframe\">\n",
              "  <thead>\n",
              "    <tr style=\"text-align: right;\">\n",
              "      <th></th>\n",
              "      <th>date_block_num</th>\n",
              "      <th>shop_id</th>\n",
              "      <th>item_id</th>\n",
              "      <th>item_cnt_month</th>\n",
              "    </tr>\n",
              "  </thead>\n",
              "  <tbody>\n",
              "    <tr>\n",
              "      <th>0</th>\n",
              "      <td>0</td>\n",
              "      <td>0</td>\n",
              "      <td>32</td>\n",
              "      <td>6</td>\n",
              "    </tr>\n",
              "    <tr>\n",
              "      <th>1</th>\n",
              "      <td>0</td>\n",
              "      <td>0</td>\n",
              "      <td>33</td>\n",
              "      <td>3</td>\n",
              "    </tr>\n",
              "    <tr>\n",
              "      <th>2</th>\n",
              "      <td>0</td>\n",
              "      <td>0</td>\n",
              "      <td>35</td>\n",
              "      <td>1</td>\n",
              "    </tr>\n",
              "    <tr>\n",
              "      <th>3</th>\n",
              "      <td>0</td>\n",
              "      <td>0</td>\n",
              "      <td>43</td>\n",
              "      <td>1</td>\n",
              "    </tr>\n",
              "    <tr>\n",
              "      <th>4</th>\n",
              "      <td>0</td>\n",
              "      <td>0</td>\n",
              "      <td>51</td>\n",
              "      <td>2</td>\n",
              "    </tr>\n",
              "    <tr>\n",
              "      <th>...</th>\n",
              "      <td>...</td>\n",
              "      <td>...</td>\n",
              "      <td>...</td>\n",
              "      <td>...</td>\n",
              "    </tr>\n",
              "    <tr>\n",
              "      <th>1609119</th>\n",
              "      <td>33</td>\n",
              "      <td>59</td>\n",
              "      <td>22087</td>\n",
              "      <td>6</td>\n",
              "    </tr>\n",
              "    <tr>\n",
              "      <th>1609120</th>\n",
              "      <td>33</td>\n",
              "      <td>59</td>\n",
              "      <td>22088</td>\n",
              "      <td>2</td>\n",
              "    </tr>\n",
              "    <tr>\n",
              "      <th>1609121</th>\n",
              "      <td>33</td>\n",
              "      <td>59</td>\n",
              "      <td>22091</td>\n",
              "      <td>1</td>\n",
              "    </tr>\n",
              "    <tr>\n",
              "      <th>1609122</th>\n",
              "      <td>33</td>\n",
              "      <td>59</td>\n",
              "      <td>22100</td>\n",
              "      <td>1</td>\n",
              "    </tr>\n",
              "    <tr>\n",
              "      <th>1609123</th>\n",
              "      <td>33</td>\n",
              "      <td>59</td>\n",
              "      <td>22102</td>\n",
              "      <td>1</td>\n",
              "    </tr>\n",
              "  </tbody>\n",
              "</table>\n",
              "<p>1609124 rows × 4 columns</p>\n",
              "</div>"
            ],
            "text/plain": [
              "         date_block_num  shop_id  item_id  item_cnt_month\n",
              "0                     0        0       32               6\n",
              "1                     0        0       33               3\n",
              "2                     0        0       35               1\n",
              "3                     0        0       43               1\n",
              "4                     0        0       51               2\n",
              "...                 ...      ...      ...             ...\n",
              "1609119              33       59    22087               6\n",
              "1609120              33       59    22088               2\n",
              "1609121              33       59    22091               1\n",
              "1609122              33       59    22100               1\n",
              "1609123              33       59    22102               1\n",
              "\n",
              "[1609124 rows x 4 columns]"
            ]
          },
          "execution_count": 56,
          "metadata": {},
          "output_type": "execute_result"
        }
      ],
      "source": [
        "grouping_fields = [\"date_block_num\", \"shop_id\", \"item_id\"]\n",
        "train_data_by_month = train_data.groupby(grouping_fields)[\"item_cnt_day\"].sum().reset_index(name=\"item_cnt_month\")\n",
        "train_data_by_month"
      ]
    },
    {
      "cell_type": "code",
      "execution_count": 58,
      "metadata": {},
      "outputs": [
        {
          "ename": "NameError",
          "evalue": "name 'train_data_by_month_sample' is not defined",
          "output_type": "error",
          "traceback": [
            "\u001b[1;31m---------------------------------------------------------------------------\u001b[0m",
            "\u001b[1;31mNameError\u001b[0m                                 Traceback (most recent call last)",
            "Cell \u001b[1;32mIn[58], line 3\u001b[0m\n\u001b[0;32m      1\u001b[0m \u001b[38;5;28;01mfrom\u001b[39;00m \u001b[38;5;21;01mitertools\u001b[39;00m \u001b[38;5;28;01mimport\u001b[39;00m product\n\u001b[1;32m----> 3\u001b[0m dates_unique \u001b[38;5;241m=\u001b[39m \u001b[43mtrain_data_by_month_sample\u001b[49m[\u001b[38;5;124m\"\u001b[39m\u001b[38;5;124mdate_block_num\u001b[39m\u001b[38;5;124m\"\u001b[39m]\u001b[38;5;241m.\u001b[39munique()\n\u001b[0;32m      4\u001b[0m shops_unique \u001b[38;5;241m=\u001b[39m train_data_by_month_sample[\u001b[38;5;124m\"\u001b[39m\u001b[38;5;124mshop_id\u001b[39m\u001b[38;5;124m\"\u001b[39m]\u001b[38;5;241m.\u001b[39munique()\n\u001b[0;32m      5\u001b[0m items_unique \u001b[38;5;241m=\u001b[39m train_data_by_month_sample[\u001b[38;5;124m\"\u001b[39m\u001b[38;5;124mitem_id\u001b[39m\u001b[38;5;124m\"\u001b[39m]\u001b[38;5;241m.\u001b[39munique()\n",
            "\u001b[1;31mNameError\u001b[0m: name 'train_data_by_month_sample' is not defined"
          ]
        }
      ],
      "source": [
        "from itertools import product\n",
        "\n",
        "dates_unique = train_data_by_month_sample[\"date_block_num\"].unique()\n",
        "shops_unique = train_data_by_month_sample[\"shop_id\"].unique()\n",
        "items_unique = train_data_by_month_sample[\"item_id\"].unique()\n",
        "\n",
        "date_shop_item_grid = pd.DataFrame([(date, shop, item) for date, shop, item in product(dates_unique, shops_unique, items_unique)])\n",
        "date_shop_item_grid.columns = [\"date_block_num\", \"shop_id\", \"item_id\"]\n",
        "date_shop_item_grid = date_shop_item_grid.merge(train_data_by_month_sample, on=[\"date_block_num\", \"shop_id\", \"item_id\"], how=\"left\").fillna(0)\n",
        "\n",
        "def predict_const(val_data: pd.DataFrame) -> pd.Series:\n",
        "    return [0] * len(val_data)\n",
        "\n",
        "def predict_as_previous_month(train_data, val_data):\n",
        "    last_month = train_data.loc[train_data[\"date_block_num\"] == train_data[\"date_block_num\"].max()]\n",
        "    last_month.rename(columns={\"item_cnt_month\": \"prediction\"}, inplace=True)\n",
        "    last_month[\"date_block_num\"] += 1\n",
        "    val_data = val_data.merge(last_month, on=[\"date_block_num\", \"shop_id\", \"item_id\"], how=\"left\")\n",
        "    return val_data\n",
        "\n",
        "def predict_as_sliding_window(train_data, val_data, window: int = 3, agg_func: str = \"mean\"):\n",
        "    period_train_data = train_data.loc[train_data[\"date_block_num\"] > train_data[\"date_block_num\"].max() - window]\n",
        "    period_train_data = period_train_data.groupby([\"shop_id\", \"item_id\"])[\"item_cnt_month\"].agg(agg_func).reset_index(name=\"prediction\")\n",
        "    val_data = val_data.merge(period_train_data, on=[\"shop_id\", \"item_id\"], how=\"left\")\n",
        "    return val_data\n",
        "\n",
        "import pandas as pd\n",
        "pd.options.mode.chained_assignment = None  # default='warn'\n",
        "\n",
        "from sklearn.metrics import mean_squared_error\n",
        "\n",
        "validation_folds = [\n",
        "    (range(26, 29), [29]),\n",
        "    (range(26, 30), [30]),\n",
        "    (range(26, 31), [31]),\n",
        "    (range(26, 32), [32]),\n",
        "    (range(26, 33), [33]),\n",
        "]\n",
        "\n",
        "for train_date_block_nums, val_date_block_nums in validation_folds:\n",
        "    train_fold = date_shop_item_grid.loc[date_shop_item_grid[\"date_block_num\"].isin(train_date_block_nums)]\n",
        "    val_fold = date_shop_item_grid.loc[date_shop_item_grid[\"date_block_num\"].isin(val_date_block_nums)]\n",
        "    val_fold = predict_as_sliding_window(train_fold, val_fold, window=3, agg_func=\"median\")\n",
        "    metrics = mean_squared_error(val_fold[\"item_cnt_month\"].clip(0,20), val_fold[\"prediction\"].clip(0,20), squared=False)\n",
        "\n",
        "    print(f\"{val_date_block_nums}: {metrics: .2f}\")\n",
        "    \n",
        "last_month = train_fold.loc[train_fold[\"date_block_num\"] == train_fold[\"date_block_num\"].max()]\n",
        "last_month.rename(columns={\"item_cnt_month\": \"prediction\"}, inplace=True)\n",
        "val_fold = val_fold.merge(last_month, on=[\"date_block_num\", \"shop_id\", \"item_id\"], how=\"left\")\n",
        "\n",
        "def create_lag_features(target_data, all_data, lags_range, months_ahead):\n",
        "    new_data = pd.DataFrame([])\n",
        "    for month_ahead in range(months_ahead):\n",
        "        month_ahead_data = target_data.copy()\n",
        "        for lag in lags_range:\n",
        "            all_data_copy = all_data.copy()\n",
        "            all_data_copy[\"date_block_num\"] += lag + month_ahead\n",
        "            all_data_copy.rename(columns={\"item_cnt_month\": f\"item_cnt_month_lag_{lag}\"}, inplace=True)\n",
        "            month_ahead_data = month_ahead_data.merge(all_data_copy, on=[\"shop_id\", \"item_id\", \"date_block_num\"], how=\"left\").fillna(0)\n",
        "        month_ahead_data[\"month_ahead\"] = month_ahead + 1\n",
        "        new_data = pd.concat([new_data, month_ahead_data])\n",
        "    return new_data\n",
        "\n",
        "import lightgbm as lgb\n",
        "\n",
        "parameters = {\n",
        "    #default\n",
        "    \"objective\": \"regression_l2\",\n",
        "    \"learning_rate\": 0.1,\n",
        "    \"metric\": \"rmse\",\n",
        "    \"seed\": 42,\n",
        "\n",
        "    #regularization\n",
        "    \"max_leaves\": 32,\n",
        "    \"colsample_bytree\": 0.8,\n",
        "    \"subsample\": 0.8,\n",
        "    \"subsample_freq\": 1,\n",
        "    \"min_data_in_leaf\": 15\n",
        "}\n",
        "\n",
        "from copy import deepcopy\n",
        "\n",
        "n_rounds = 150\n",
        "\n",
        "lags_range = [1, 2, 3]\n",
        "metrics_storage = []\n",
        "\n",
        "for train_date_block_nums, val_date_block_nums in validation_folds:\n",
        "    train_fold = date_shop_item_grid.loc[date_shop_item_grid[\"date_block_num\"].isin(train_date_block_nums)]\n",
        "    val_fold = date_shop_item_grid.loc[date_shop_item_grid[\"date_block_num\"].isin(val_date_block_nums)]\n",
        "\n",
        "    train_fold = create_lag_features(train_fold, date_shop_item_grid, lags_range, 1)\n",
        "    val_fold = create_lag_features(val_fold, date_shop_item_grid, lags_range, 1)\n",
        "\n",
        "    lgb_train = lgb.Dataset(train_fold[[f\"item_cnt_month_lag_{lag}\" for lag in lags_range]], label=train_fold[\"item_cnt_month\"].clip(0, 20), free_raw_data=False)\n",
        "    lgb_val = lgb.Dataset(val_fold[[f\"item_cnt_month_lag_{lag}\" for lag in lags_range]], label=val_fold[\"item_cnt_month\"].clip(0, 20), free_raw_data=False)\n",
        "    results = {}\n",
        "    model_fold = lgb.train(parameters, lgb_train, n_rounds, valid_sets=(lgb_val, lgb_train), valid_names=(\"val\", \"train\"), callbacks=[lgb.log_evaluation(period=1), lgb.record_evaluation(results)])\n",
        "    metrics_storage.append(deepcopy(results))\n",
        "\n",
        "\n",
        "import numpy as np\n",
        "\n",
        "final_metrics = np.concatenate([np.array(metrics_storage[i][\"val\"][\"rmse\"]).reshape(150,1) for i in range(len(validation_folds))], axis=1)\n",
        "\n",
        "\n",
        "final_metrics = pd.DataFrame(final_metrics, columns=[f\"fold_{i}\" for i in range(len(validation_folds))])\n",
        "final_metrics[\"mean_rmse\"] = final_metrics[[f\"fold_{i}\" for i in range(len(validation_folds))]].mean(axis=1)\n",
        "final_metrics.iloc[final_metrics[\"mean_rmse\"].argmin()]\n",
        "\n",
        "np.concatenate([np.array(metrics_storage[i][\"train\"][\"rmse\"]).reshape(150,1) for i in range(len(validation_folds))], axis=1)[135, :]\n",
        "train_fold = date_shop_item_grid.loc[date_shop_item_grid[\"date_block_num\"].isin(range(26, 34))]\n",
        "\n",
        "train_fold = create_lag_features(train_fold, date_shop_item_grid, lags_range, 1)\n",
        "\n",
        "n_rounds = 135\n",
        "lgb_train = lgb.Dataset(train_fold[[f\"item_cnt_month_lag_{lag}\" for lag in lags_range]], label=train_fold[\"item_cnt_month\"].clip(0, 20), free_raw_data=False)\n",
        "model = lgb.train(parameters, lgb_train, n_rounds)\n",
        "\n",
        "test_data[\"prediction\"] = model.predict(test_data[[f\"item_cnt_month_lag_{lag}\" for lag in lags_range]])\n",
        "\n",
        "test_data[[f\"item_cnt_month_lag_{lag}\" for lag in lags_range]]"
      ]
    },
    {
      "cell_type": "code",
      "execution_count": null,
      "metadata": {},
      "outputs": [],
      "source": [
        "# repeat the training pipeline from workshop lecture\n",
        "# make three submissions to the leaderboard to see how well the model is doing and if results are correlated with the local validation"
      ]
    },
    {
      "cell_type": "code",
      "execution_count": null,
      "metadata": {},
      "outputs": [],
      "source": [
        "# replicate the approach as in the baseline\n",
        "# you create the same features as for baseline (previous values for each shop_id-item_id pair)\n",
        "# using the same validation train lightgbm model\n",
        "# you should achieve better results than baseline (as we use the same features as baseline but apply lightgbm model instead of simple statistics)\n",
        "# make predictions for the test set and submit them to the leaderboard\n",
        "\n",
        "# to improve the solution you can try adding new features that were mentioned in the lecture"
      ]
    }
  ],
  "metadata": {
    "colab": {
      "collapsed_sections": [],
      "name": "Bagging homework.ipynb",
      "provenance": []
    },
    "kernelspec": {
      "display_name": "Python 3",
      "name": "python3"
    },
    "language_info": {
      "codemirror_mode": {
        "name": "ipython",
        "version": 3
      },
      "file_extension": ".py",
      "mimetype": "text/x-python",
      "name": "python",
      "nbconvert_exporter": "python",
      "pygments_lexer": "ipython3",
      "version": "3.12.4"
    }
  },
  "nbformat": 4,
  "nbformat_minor": 0
}
