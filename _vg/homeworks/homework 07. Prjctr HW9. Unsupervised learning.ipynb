{
  "cells": [
    {
      "cell_type": "markdown",
      "metadata": {
        "id": "UMms33J4jeDZ"
      },
      "source": [
        "### Homework\n",
        "1. Do clustering on the digits dataset from sklearn using at least three different approaches\n",
        "2. Evaluate the quality of clustering using three metrics from the lecture\n",
        "3. Apply dimensionality reduction, then do clustering and calculate metrics.\n",
        "4. Make a comparison table of different clustering approaches with and without dimensionality reduction.\n",
        "\n",
        "In this task, we want to use 10 clusters, as we have 10 digits."
      ]
    },
    {
      "cell_type": "code",
      "execution_count": 191,
      "metadata": {},
      "outputs": [],
      "source": [
        "# !pip install scikit-learn-extra\n",
        "# !pip install umap-learn"
      ]
    },
    {
      "cell_type": "code",
      "execution_count": 192,
      "metadata": {},
      "outputs": [],
      "source": [
        "import numpy as np\n",
        "import pandas as pd\n",
        "import matplotlib.pyplot as plt\n",
        "\n",
        "from sklearn import datasets\n",
        "from sklearn.cluster import KMeans, AffinityPropagation, AgglomerativeClustering, Birch\n",
        "from sklearn.decomposition import PCA\n",
        "from sklearn.metrics import adjusted_mutual_info_score, adjusted_rand_score, silhouette_score\n",
        "from sklearn.mixture import GaussianMixture\n",
        "from sklearn_extra.cluster import KMedoids\n",
        "from sklearn.preprocessing import StandardScaler\n",
        "from sklearn.manifold import TSNE\n",
        "from umap import UMAP"
      ]
    },
    {
      "cell_type": "code",
      "execution_count": 193,
      "metadata": {},
      "outputs": [
        {
          "name": "stdout",
          "output_type": "stream",
          "text": [
            "(1797, 64)\n",
            ".. _digits_dataset:\n",
            "\n",
            "Optical recognition of handwritten digits dataset\n",
            "--------------------------------------------------\n",
            "\n",
            "**Data Set Characteristics:**\n",
            "\n",
            ":Number of Instances: 1797\n",
            ":Number of Attributes: 64\n",
            ":Attribute Information: 8x8 image of integer pixels in the range 0..16.\n",
            ":Missing Attribute Values: None\n",
            ":Creator: E. Alpaydin (alpaydin '@' boun.edu.tr)\n",
            ":Date: July; 1998\n",
            "\n",
            "This is a copy of the test set of the UCI ML hand-written digits datasets\n",
            "https://archive.ics.uci.edu/ml/datasets/Optical+Recognition+of+Handwritten+Digits\n",
            "\n",
            "The data set contains images of hand-written digits: 10 classes where\n",
            "each class refers to a digit.\n",
            "\n",
            "Preprocessing programs made available by NIST were used to extract\n",
            "normalized bitmaps of handwritten digits from a preprinted form. From a\n",
            "total of 43 people, 30 contributed to the training set and different 13\n",
            "to the test set. 32x32 bitmaps are divided into nonoverlapping blocks of\n",
            "4x4 and the number of on pixels are counted in each block. This generates\n",
            "an input matrix of 8x8 where each element is an integer in the range\n",
            "0..16. This reduces dimensionality and gives invariance to small\n",
            "distortions.\n",
            "\n",
            "For info on NIST preprocessing routines, see M. D. Garris, J. L. Blue, G.\n",
            "T. Candela, D. L. Dimmick, J. Geist, P. J. Grother, S. A. Janet, and C.\n",
            "L. Wilson, NIST Form-Based Handprint Recognition System, NISTIR 5469,\n",
            "1994.\n",
            "\n",
            ".. dropdown:: References\n",
            "\n",
            "  - C. Kaynak (1995) Methods of Combining Multiple Classifiers and Their\n",
            "    Applications to Handwritten Digit Recognition, MSc Thesis, Institute of\n",
            "    Graduate Studies in Science and Engineering, Bogazici University.\n",
            "  - E. Alpaydin, C. Kaynak (1998) Cascading Classifiers, Kybernetika.\n",
            "  - Ken Tang and Ponnuthurai N. Suganthan and Xi Yao and A. Kai Qin.\n",
            "    Linear dimensionalityreduction using relevance weighted LDA. School of\n",
            "    Electrical and Electronic Engineering Nanyang Technological University.\n",
            "    2005.\n",
            "  - Claudio Gentile. A New Approximate Maximal Margin Classification\n",
            "    Algorithm. NIPS. 2000.\n",
            "\n"
          ]
        },
        {
          "data": {
            "text/plain": [
              "(array([[ 0.,  0.,  5., ...,  0.,  0.,  0.],\n",
              "        [ 0.,  0.,  0., ..., 10.,  0.,  0.],\n",
              "        [ 0.,  0.,  0., ..., 16.,  9.,  0.],\n",
              "        ...,\n",
              "        [ 0.,  0.,  1., ...,  6.,  0.,  0.],\n",
              "        [ 0.,  0.,  2., ..., 12.,  0.,  0.],\n",
              "        [ 0.,  0., 10., ..., 12.,  1.,  0.]]),\n",
              " array([0, 1, 2, ..., 8, 9, 8]))"
            ]
          },
          "execution_count": 193,
          "metadata": {},
          "output_type": "execute_result"
        }
      ],
      "source": [
        "digits = datasets.load_digits()\n",
        "\n",
        "print(digits.data.shape)\n",
        "print(digits.DESCR)\n",
        "\n",
        "X, y = digits.data, digits.target\n",
        "X, y"
      ]
    },
    {
      "cell_type": "code",
      "execution_count": 194,
      "metadata": {},
      "outputs": [
        {
          "data": {
            "text/plain": [
              "<Figure size 640x480 with 0 Axes>"
            ]
          },
          "metadata": {},
          "output_type": "display_data"
        },
        {
          "data": {
            "image/png": "[encoded data removed]",
            "text/plain": [
              "<Figure size 480x480 with 1 Axes>"
            ]
          },
          "metadata": {},
          "output_type": "display_data"
        },
        {
          "data": {
            "image/png": "[encoded data removed]",
            "text/plain": [
              "<Figure size 480x480 with 1 Axes>"
            ]
          },
          "metadata": {},
          "output_type": "display_data"
        }
      ],
      "source": [
        "plt.gray()\n",
        "for i in range(2):\n",
        "    plt.matshow(digits.images[i])\n",
        "plt.show()"
      ]
    },
    {
      "cell_type": "code",
      "execution_count": 195,
      "metadata": {},
      "outputs": [],
      "source": [
        "def calculate_metrics(model_name, data, labels, labels_predicted):\n",
        "    ami_score_result = adjusted_mutual_info_score(labels, labels_predicted)\n",
        "    ar_score_result = adjusted_rand_score(labels, labels_predicted)\n",
        "    silhouette_score_result = silhouette_score(data, labels_predicted)\n",
        "    \n",
        "    if print_metrics:\n",
        "        print(f'Model: {model_name}')    \n",
        "        print(f\"adjusted_mutual_info_score: {ami_score_result}\")\n",
        "        print(f\"adjusted_rand_score: {ar_score_result}\")\n",
        "        print(f\"silhouette_score: {silhouette_score_result}\")\n",
        "        print(\"-------------------------------------\")\n",
        "    \n",
        "    return (model_name, ami_score_result, ar_score_result, silhouette_score_result)\n",
        "\n",
        "print_metrics = True\n",
        "scores = pd.DataFrame(columns=['model', 'ami', 'ar', 'silhouette'])"
      ]
    },
    {
      "cell_type": "code",
      "execution_count": 196,
      "metadata": {},
      "outputs": [
        {
          "name": "stdout",
          "output_type": "stream",
          "text": [
            "Model: KMeans\n",
            "adjusted_mutual_info_score: 0.7363629149652884\n",
            "adjusted_rand_score: 0.6646144662046113\n",
            "silhouette_score: 0.18216275455773634\n",
            "-------------------------------------\n"
          ]
        }
      ],
      "source": [
        "def run_KMeans(model_name, X, y):\n",
        "    kmeans = KMeans(n_clusters=10)\n",
        "    kmeans.fit(X)\n",
        "    scores.loc[len(scores)] = calculate_metrics(model_name, X, y, kmeans.labels_)\n",
        "    \n",
        "run_KMeans(\"KMeans\", X, y)"
      ]
    },
    {
      "cell_type": "code",
      "execution_count": 197,
      "metadata": {},
      "outputs": [
        {
          "name": "stdout",
          "output_type": "stream",
          "text": [
            "Model: KMeans scaled\n",
            "adjusted_mutual_info_score: 0.6650441713755093\n",
            "adjusted_rand_score: 0.5303929244202932\n",
            "silhouette_score: 0.12505732126415792\n",
            "-------------------------------------\n"
          ]
        }
      ],
      "source": [
        "scaler = StandardScaler()\n",
        "X_scaled = scaler.fit_transform(X)\n",
        "run_KMeans(\"KMeans scaled\", X_scaled, y)"
      ]
    },
    {
      "cell_type": "markdown",
      "metadata": {},
      "source": [
        "Scaler makes the result worse"
      ]
    },
    {
      "cell_type": "markdown",
      "metadata": {},
      "source": [
        "### Try other clustering algorithms that support number of clusters as parameter"
      ]
    },
    {
      "cell_type": "code",
      "execution_count": 198,
      "metadata": {},
      "outputs": [
        {
          "name": "stdout",
          "output_type": "stream",
          "text": [
            "Model: GaussianMixture\n",
            "adjusted_mutual_info_score: 0.7095629691363494\n",
            "adjusted_rand_score: 0.560388506500907\n",
            "silhouette_score: 0.16382908403700217\n",
            "-------------------------------------\n",
            "Model: Birch\n",
            "adjusted_mutual_info_score: 0.8668321489750319\n",
            "adjusted_rand_score: 0.7940031835568753\n",
            "silhouette_score: 0.17849659940596496\n",
            "-------------------------------------\n",
            "Model: KMedoids\n",
            "adjusted_mutual_info_score: 0.5158614671165285\n",
            "adjusted_rand_score: 0.38804597814309\n",
            "silhouette_score: 0.10670114255039931\n",
            "-------------------------------------\n"
          ]
        }
      ],
      "source": [
        "def run_GaussianMixture(model_name, X, y):\n",
        "    model = GaussianMixture(n_components=10)\n",
        "    labels_predicted = model.fit_predict(X)\n",
        "    scores.loc[len(scores)] = calculate_metrics(model_name, X, y, labels_predicted)\n",
        "    \n",
        "\n",
        "def run_Birch(model_name, X, y):\n",
        "    model = Birch(n_clusters=10)\n",
        "    labels_predicted = model.fit_predict(X)\n",
        "    scores.loc[len(scores)] = calculate_metrics(model_name, X, y, labels_predicted)\n",
        "\n",
        "\n",
        "def run_KMedoids(model_name, X, y):\n",
        "    model = KMedoids(n_clusters=10)\n",
        "    labels_predicted = model.fit_predict(X)\n",
        "    scores.loc[len(scores)] = calculate_metrics(model_name, X, y, labels_predicted)\n",
        "\n",
        "\n",
        "run_GaussianMixture('GaussianMixture', X, y)\n",
        "run_Birch('Birch', X, y)\n",
        "run_KMedoids('KMedoids', X, y)"
      ]
    },
    {
      "cell_type": "code",
      "execution_count": 199,
      "metadata": {},
      "outputs": [
        {
          "name": "stdout",
          "output_type": "stream",
          "text": [
            "Model: Agglomerative - ward\n",
            "adjusted_mutual_info_score: 0.8668321489750319\n",
            "adjusted_rand_score: 0.7940031835568753\n",
            "silhouette_score: 0.17849659940596496\n",
            "-------------------------------------\n",
            "Model: Agglomerative - average\n",
            "adjusted_mutual_info_score: 0.7103101155580303\n",
            "adjusted_rand_score: 0.5142255948681158\n",
            "silhouette_score: 0.14662473962932557\n",
            "-------------------------------------\n",
            "Model: Agglomerative - complete\n",
            "adjusted_mutual_info_score: 0.6091974206985209\n",
            "adjusted_rand_score: 0.4286888142937744\n",
            "silhouette_score: 0.1192708999859292\n",
            "-------------------------------------\n",
            "Model: Agglomerative - single\n",
            "adjusted_mutual_info_score: 8.438956846943179e-05\n",
            "adjusted_rand_score: 4.313084144605482e-05\n",
            "silhouette_score: -0.1336211433529001\n",
            "-------------------------------------\n"
          ]
        }
      ],
      "source": [
        "def run_AgglomerativeClustering(model_name, X, y, linkage):\n",
        "    model = AgglomerativeClustering(n_clusters=10, linkage=linkage)\n",
        "    labels_predicted = model.fit_predict(X)\n",
        "    scores.loc[len(scores)] = calculate_metrics(model_name, X, y, labels_predicted)\n",
        "    \n",
        "\n",
        "for linkage in ['ward', 'average', 'complete', 'single']:\n",
        "    run_AgglomerativeClustering(f'Agglomerative - {linkage}', X, y, linkage)"
      ]
    },
    {
      "cell_type": "code",
      "execution_count": 200,
      "metadata": {},
      "outputs": [
        {
          "data": {
            "text/html": [
              "<div>\n",
              "<style scoped>\n",
              "    .dataframe tbody tr th:only-of-type {\n",
              "        vertical-align: middle;\n",
              "    }\n",
              "\n",
              "    .dataframe tbody tr th {\n",
              "        vertical-align: top;\n",
              "    }\n",
              "\n",
              "    .dataframe thead th {\n",
              "        text-align: right;\n",
              "    }\n",
              "</style>\n",
              "<table border=\"1\" class=\"dataframe\">\n",
              "  <thead>\n",
              "    <tr style=\"text-align: right;\">\n",
              "      <th></th>\n",
              "      <th>model</th>\n",
              "      <th>ami</th>\n",
              "      <th>ar</th>\n",
              "      <th>silhouette</th>\n",
              "    </tr>\n",
              "  </thead>\n",
              "  <tbody>\n",
              "    <tr>\n",
              "      <th>3</th>\n",
              "      <td>Birch</td>\n",
              "      <td>0.866832</td>\n",
              "      <td>0.794003</td>\n",
              "      <td>0.178497</td>\n",
              "    </tr>\n",
              "    <tr>\n",
              "      <th>5</th>\n",
              "      <td>Agglomerative - ward</td>\n",
              "      <td>0.866832</td>\n",
              "      <td>0.794003</td>\n",
              "      <td>0.178497</td>\n",
              "    </tr>\n",
              "    <tr>\n",
              "      <th>0</th>\n",
              "      <td>KMeans</td>\n",
              "      <td>0.736363</td>\n",
              "      <td>0.664614</td>\n",
              "      <td>0.182163</td>\n",
              "    </tr>\n",
              "    <tr>\n",
              "      <th>6</th>\n",
              "      <td>Agglomerative - average</td>\n",
              "      <td>0.710310</td>\n",
              "      <td>0.514226</td>\n",
              "      <td>0.146625</td>\n",
              "    </tr>\n",
              "    <tr>\n",
              "      <th>2</th>\n",
              "      <td>GaussianMixture</td>\n",
              "      <td>0.709563</td>\n",
              "      <td>0.560389</td>\n",
              "      <td>0.163829</td>\n",
              "    </tr>\n",
              "    <tr>\n",
              "      <th>1</th>\n",
              "      <td>KMeans scaled</td>\n",
              "      <td>0.665044</td>\n",
              "      <td>0.530393</td>\n",
              "      <td>0.125057</td>\n",
              "    </tr>\n",
              "    <tr>\n",
              "      <th>7</th>\n",
              "      <td>Agglomerative - complete</td>\n",
              "      <td>0.609197</td>\n",
              "      <td>0.428689</td>\n",
              "      <td>0.119271</td>\n",
              "    </tr>\n",
              "    <tr>\n",
              "      <th>4</th>\n",
              "      <td>KMedoids</td>\n",
              "      <td>0.515861</td>\n",
              "      <td>0.388046</td>\n",
              "      <td>0.106701</td>\n",
              "    </tr>\n",
              "    <tr>\n",
              "      <th>8</th>\n",
              "      <td>Agglomerative - single</td>\n",
              "      <td>0.000084</td>\n",
              "      <td>0.000043</td>\n",
              "      <td>-0.133621</td>\n",
              "    </tr>\n",
              "  </tbody>\n",
              "</table>\n",
              "</div>"
            ],
            "text/plain": [
              "                      model       ami        ar  silhouette\n",
              "3                     Birch  0.866832  0.794003    0.178497\n",
              "5      Agglomerative - ward  0.866832  0.794003    0.178497\n",
              "0                    KMeans  0.736363  0.664614    0.182163\n",
              "6   Agglomerative - average  0.710310  0.514226    0.146625\n",
              "2           GaussianMixture  0.709563  0.560389    0.163829\n",
              "1             KMeans scaled  0.665044  0.530393    0.125057\n",
              "7  Agglomerative - complete  0.609197  0.428689    0.119271\n",
              "4                  KMedoids  0.515861  0.388046    0.106701\n",
              "8    Agglomerative - single  0.000084  0.000043   -0.133621"
            ]
          },
          "execution_count": 200,
          "metadata": {},
          "output_type": "execute_result"
        }
      ],
      "source": [
        "scores.sort_values(by='ami', ascending=False)"
      ]
    },
    {
      "cell_type": "code",
      "execution_count": 201,
      "metadata": {},
      "outputs": [
        {
          "data": {
            "text/plain": [
              "102"
            ]
          },
          "execution_count": 201,
          "metadata": {},
          "output_type": "execute_result"
        }
      ],
      "source": [
        "model_aff = AffinityPropagation()\n",
        "model_aff.fit(X)\n",
        "max(model_aff.labels_)"
      ]
    },
    {
      "cell_type": "markdown",
      "metadata": {},
      "source": [
        "That's too many clusters"
      ]
    },
    {
      "cell_type": "code",
      "execution_count": 202,
      "metadata": {},
      "outputs": [
        {
          "name": "stderr",
          "output_type": "stream",
          "text": [
            "c:\\Python\\envs\\ds1\\Lib\\site-packages\\umap\\umap_.py:1945: UserWarning: n_jobs value 1 overridden to 1 by setting random_state. Use no seed for parallelism.\n",
            "  warn(f\"n_jobs value {self.n_jobs} overridden to 1 by setting random_state. Use no seed for parallelism.\")\n",
            "c:\\Python\\envs\\ds1\\Lib\\site-packages\\umap\\umap_.py:1945: UserWarning: n_jobs value 1 overridden to 1 by setting random_state. Use no seed for parallelism.\n",
            "  warn(f\"n_jobs value {self.n_jobs} overridden to 1 by setting random_state. Use no seed for parallelism.\")\n"
          ]
        }
      ],
      "source": [
        "feature_count = X.shape[1]\n",
        "random_state = 0\n",
        "\n",
        "pca_50pc = PCA(n_components=int(feature_count*0.50), random_state=random_state)\n",
        "pca_2 = PCA(n_components=2, random_state=random_state)\n",
        "\n",
        "X_pca_50pc = pca_50pc.fit_transform(X)\n",
        "X_pca_2 = pca_2.fit_transform(X)\n",
        "\n",
        "\n",
        "tsne = TSNE(random_state=random_state)\n",
        "X_tsne = tsne.fit_transform(X)\n",
        "\n",
        "\n",
        "umap = UMAP(random_state=random_state)\n",
        "umap_n5 = UMAP(n_neighbors=5, random_state=random_state)\n",
        "\n",
        "X_umap = umap.fit_transform(X)\n",
        "X_umap_n5 = umap_n5.fit_transform(X)\n"
      ]
    },
    {
      "cell_type": "code",
      "execution_count": 203,
      "metadata": {},
      "outputs": [
        {
          "data": {
            "text/html": [
              "<div>\n",
              "<style scoped>\n",
              "    .dataframe tbody tr th:only-of-type {\n",
              "        vertical-align: middle;\n",
              "    }\n",
              "\n",
              "    .dataframe tbody tr th {\n",
              "        vertical-align: top;\n",
              "    }\n",
              "\n",
              "    .dataframe thead th {\n",
              "        text-align: right;\n",
              "    }\n",
              "</style>\n",
              "<table border=\"1\" class=\"dataframe\">\n",
              "  <thead>\n",
              "    <tr style=\"text-align: right;\">\n",
              "      <th></th>\n",
              "      <th>model</th>\n",
              "      <th>ami</th>\n",
              "      <th>ar</th>\n",
              "      <th>silhouette</th>\n",
              "    </tr>\n",
              "  </thead>\n",
              "  <tbody>\n",
              "    <tr>\n",
              "      <th>29</th>\n",
              "      <td>Ward UMAP n5</td>\n",
              "      <td>0.926623</td>\n",
              "      <td>0.906208</td>\n",
              "      <td>0.749908</td>\n",
              "    </tr>\n",
              "    <tr>\n",
              "      <th>27</th>\n",
              "      <td>Birch UMAP n5</td>\n",
              "      <td>0.926623</td>\n",
              "      <td>0.906208</td>\n",
              "      <td>0.749908</td>\n",
              "    </tr>\n",
              "    <tr>\n",
              "      <th>26</th>\n",
              "      <td>GaussianMixture UMAP n5</td>\n",
              "      <td>0.926623</td>\n",
              "      <td>0.906208</td>\n",
              "      <td>0.749908</td>\n",
              "    </tr>\n",
              "    <tr>\n",
              "      <th>25</th>\n",
              "      <td>KMeans UMAP n5</td>\n",
              "      <td>0.926623</td>\n",
              "      <td>0.906208</td>\n",
              "      <td>0.749908</td>\n",
              "    </tr>\n",
              "    <tr>\n",
              "      <th>17</th>\n",
              "      <td>Birch T_SNE</td>\n",
              "      <td>0.920168</td>\n",
              "      <td>0.900242</td>\n",
              "      <td>0.644778</td>\n",
              "    </tr>\n",
              "    <tr>\n",
              "      <th>18</th>\n",
              "      <td>KMedoids T_SNE</td>\n",
              "      <td>0.911190</td>\n",
              "      <td>0.889946</td>\n",
              "      <td>0.643763</td>\n",
              "    </tr>\n",
              "    <tr>\n",
              "      <th>15</th>\n",
              "      <td>KMeans T_SNE</td>\n",
              "      <td>0.911003</td>\n",
              "      <td>0.889270</td>\n",
              "      <td>0.643350</td>\n",
              "    </tr>\n",
              "    <tr>\n",
              "      <th>19</th>\n",
              "      <td>Ward T_SNE</td>\n",
              "      <td>0.908747</td>\n",
              "      <td>0.884660</td>\n",
              "      <td>0.641893</td>\n",
              "    </tr>\n",
              "    <tr>\n",
              "      <th>21</th>\n",
              "      <td>GaussianMixture UMAP</td>\n",
              "      <td>0.903782</td>\n",
              "      <td>0.836677</td>\n",
              "      <td>0.733341</td>\n",
              "    </tr>\n",
              "    <tr>\n",
              "      <th>24</th>\n",
              "      <td>Ward UMAP</td>\n",
              "      <td>0.903459</td>\n",
              "      <td>0.820686</td>\n",
              "      <td>0.784126</td>\n",
              "    </tr>\n",
              "    <tr>\n",
              "      <th>20</th>\n",
              "      <td>KMeans UMAP</td>\n",
              "      <td>0.903459</td>\n",
              "      <td>0.820686</td>\n",
              "      <td>0.784126</td>\n",
              "    </tr>\n",
              "    <tr>\n",
              "      <th>22</th>\n",
              "      <td>Birch UMAP</td>\n",
              "      <td>0.872688</td>\n",
              "      <td>0.774425</td>\n",
              "      <td>0.739763</td>\n",
              "    </tr>\n",
              "    <tr>\n",
              "      <th>2</th>\n",
              "      <td>Birch</td>\n",
              "      <td>0.866832</td>\n",
              "      <td>0.794003</td>\n",
              "      <td>0.178497</td>\n",
              "    </tr>\n",
              "    <tr>\n",
              "      <th>4</th>\n",
              "      <td>Ward</td>\n",
              "      <td>0.866832</td>\n",
              "      <td>0.794003</td>\n",
              "      <td>0.178497</td>\n",
              "    </tr>\n",
              "    <tr>\n",
              "      <th>16</th>\n",
              "      <td>GaussianMixture T_SNE</td>\n",
              "      <td>0.842438</td>\n",
              "      <td>0.742328</td>\n",
              "      <td>0.602404</td>\n",
              "    </tr>\n",
              "    <tr>\n",
              "      <th>7</th>\n",
              "      <td>Birch PCA 50%</td>\n",
              "      <td>0.841366</td>\n",
              "      <td>0.749732</td>\n",
              "      <td>0.183072</td>\n",
              "    </tr>\n",
              "    <tr>\n",
              "      <th>9</th>\n",
              "      <td>Ward PCA 50%</td>\n",
              "      <td>0.841366</td>\n",
              "      <td>0.749732</td>\n",
              "      <td>0.183072</td>\n",
              "    </tr>\n",
              "    <tr>\n",
              "      <th>28</th>\n",
              "      <td>KMedoids UMAP n5</td>\n",
              "      <td>0.837641</td>\n",
              "      <td>0.699220</td>\n",
              "      <td>0.555944</td>\n",
              "    </tr>\n",
              "    <tr>\n",
              "      <th>23</th>\n",
              "      <td>KMedoids UMAP</td>\n",
              "      <td>0.824331</td>\n",
              "      <td>0.641350</td>\n",
              "      <td>0.503167</td>\n",
              "    </tr>\n",
              "    <tr>\n",
              "      <th>1</th>\n",
              "      <td>GaussianMixture</td>\n",
              "      <td>0.777117</td>\n",
              "      <td>0.699434</td>\n",
              "      <td>0.181509</td>\n",
              "    </tr>\n",
              "    <tr>\n",
              "      <th>6</th>\n",
              "      <td>GaussianMixture PCA 50%</td>\n",
              "      <td>0.760007</td>\n",
              "      <td>0.639393</td>\n",
              "      <td>0.190939</td>\n",
              "    </tr>\n",
              "    <tr>\n",
              "      <th>5</th>\n",
              "      <td>KMeans PCA 50%</td>\n",
              "      <td>0.753735</td>\n",
              "      <td>0.671135</td>\n",
              "      <td>0.183581</td>\n",
              "    </tr>\n",
              "    <tr>\n",
              "      <th>0</th>\n",
              "      <td>KMeans</td>\n",
              "      <td>0.736858</td>\n",
              "      <td>0.661291</td>\n",
              "      <td>0.182026</td>\n",
              "    </tr>\n",
              "    <tr>\n",
              "      <th>13</th>\n",
              "      <td>KMedoids PCA 2</td>\n",
              "      <td>0.532619</td>\n",
              "      <td>0.422753</td>\n",
              "      <td>0.389027</td>\n",
              "    </tr>\n",
              "    <tr>\n",
              "      <th>11</th>\n",
              "      <td>GaussianMixture PCA 2</td>\n",
              "      <td>0.524051</td>\n",
              "      <td>0.376427</td>\n",
              "      <td>0.364895</td>\n",
              "    </tr>\n",
              "    <tr>\n",
              "      <th>3</th>\n",
              "      <td>KMedoids</td>\n",
              "      <td>0.515861</td>\n",
              "      <td>0.388046</td>\n",
              "      <td>0.106701</td>\n",
              "    </tr>\n",
              "    <tr>\n",
              "      <th>10</th>\n",
              "      <td>KMeans PCA 2</td>\n",
              "      <td>0.505145</td>\n",
              "      <td>0.357120</td>\n",
              "      <td>0.376246</td>\n",
              "    </tr>\n",
              "    <tr>\n",
              "      <th>14</th>\n",
              "      <td>Ward PCA 2</td>\n",
              "      <td>0.497240</td>\n",
              "      <td>0.342762</td>\n",
              "      <td>0.352536</td>\n",
              "    </tr>\n",
              "    <tr>\n",
              "      <th>12</th>\n",
              "      <td>Birch PCA 2</td>\n",
              "      <td>0.493437</td>\n",
              "      <td>0.369976</td>\n",
              "      <td>0.316815</td>\n",
              "    </tr>\n",
              "    <tr>\n",
              "      <th>8</th>\n",
              "      <td>KMedoids PCA 50%</td>\n",
              "      <td>0.430238</td>\n",
              "      <td>0.301851</td>\n",
              "      <td>0.088106</td>\n",
              "    </tr>\n",
              "  </tbody>\n",
              "</table>\n",
              "</div>"
            ],
            "text/plain": [
              "                      model       ami        ar  silhouette\n",
              "29             Ward UMAP n5  0.926623  0.906208    0.749908\n",
              "27            Birch UMAP n5  0.926623  0.906208    0.749908\n",
              "26  GaussianMixture UMAP n5  0.926623  0.906208    0.749908\n",
              "25           KMeans UMAP n5  0.926623  0.906208    0.749908\n",
              "17              Birch T_SNE  0.920168  0.900242    0.644778\n",
              "18           KMedoids T_SNE  0.911190  0.889946    0.643763\n",
              "15             KMeans T_SNE  0.911003  0.889270    0.643350\n",
              "19               Ward T_SNE  0.908747  0.884660    0.641893\n",
              "21     GaussianMixture UMAP  0.903782  0.836677    0.733341\n",
              "24                Ward UMAP  0.903459  0.820686    0.784126\n",
              "20              KMeans UMAP  0.903459  0.820686    0.784126\n",
              "22               Birch UMAP  0.872688  0.774425    0.739763\n",
              "2                    Birch   0.866832  0.794003    0.178497\n",
              "4                     Ward   0.866832  0.794003    0.178497\n",
              "16    GaussianMixture T_SNE  0.842438  0.742328    0.602404\n",
              "7             Birch PCA 50%  0.841366  0.749732    0.183072\n",
              "9              Ward PCA 50%  0.841366  0.749732    0.183072\n",
              "28         KMedoids UMAP n5  0.837641  0.699220    0.555944\n",
              "23            KMedoids UMAP  0.824331  0.641350    0.503167\n",
              "1          GaussianMixture   0.777117  0.699434    0.181509\n",
              "6   GaussianMixture PCA 50%  0.760007  0.639393    0.190939\n",
              "5            KMeans PCA 50%  0.753735  0.671135    0.183581\n",
              "0                   KMeans   0.736858  0.661291    0.182026\n",
              "13           KMedoids PCA 2  0.532619  0.422753    0.389027\n",
              "11    GaussianMixture PCA 2  0.524051  0.376427    0.364895\n",
              "3                 KMedoids   0.515861  0.388046    0.106701\n",
              "10             KMeans PCA 2  0.505145  0.357120    0.376246\n",
              "14               Ward PCA 2  0.497240  0.342762    0.352536\n",
              "12              Birch PCA 2  0.493437  0.369976    0.316815\n",
              "8          KMedoids PCA 50%  0.430238  0.301851    0.088106"
            ]
          },
          "execution_count": 203,
          "metadata": {},
          "output_type": "execute_result"
        }
      ],
      "source": [
        "def run_all(suffix, X, y):\n",
        "    run_KMeans(\"KMeans \" + suffix, X, y)\n",
        "    run_GaussianMixture('GaussianMixture ' + suffix, X, y)\n",
        "    run_Birch('Birch ' + suffix, X, y)\n",
        "    run_KMedoids('KMedoids ' + suffix, X, y)\n",
        "    run_AgglomerativeClustering(f'Ward ' + suffix, X, y, 'ward')\n",
        "\n",
        "\n",
        "print_metrics = False\n",
        "scores = pd.DataFrame(columns=['model', 'ami', 'ar', 'silhouette'])\n",
        "\n",
        "run_all('', X, y)\n",
        "\n",
        "run_all('PCA 50%', X_pca_50pc, y)\n",
        "run_all('PCA 2', X_pca_2, y)\n",
        "\n",
        "run_all('T_SNE', X_tsne, y)\n",
        "run_all('UMAP', X_umap, y)\n",
        "run_all('UMAP n5', X_umap_n5, y)\n",
        "\n",
        "scores.sort_values(by='ami', ascending=False)"
      ]
    },
    {
      "cell_type": "markdown",
      "metadata": {},
      "source": [
        "# Conclusion\n",
        "\n",
        "- If number of clusters is known, select algorithms that support such parameter.\n",
        "- UMAP and T-SNE improve clustering score significantly (UMAP seems better). The most drastic change is for silhouette metric.\n",
        "- PCA provided no improvement of the metrics."
      ]
    },
    {
      "cell_type": "markdown",
      "metadata": {},
      "source": []
    }
  ],
  "metadata": {
    "colab": {
      "collapsed_sections": [],
      "name": "Bagging homework.ipynb",
      "provenance": []
    },
    "kernelspec": {
      "display_name": "Python 3",
      "name": "python3"
    },
    "language_info": {
      "codemirror_mode": {
        "name": "ipython",
        "version": 3
      },
      "file_extension": ".py",
      "mimetype": "text/x-python",
      "name": "python",
      "nbconvert_exporter": "python",
      "pygments_lexer": "ipython3",
      "version": "3.12.4"
    }
  },
  "nbformat": 4,
  "nbformat_minor": 0
}
