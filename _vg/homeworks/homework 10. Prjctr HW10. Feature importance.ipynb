{
  "cells": [
    {
      "cell_type": "markdown",
      "metadata": {
        "id": "UMms33J4jeDZ"
      },
      "source": [
        "1. Use the same dataset from the previous task\n",
        "2. Reuse validation strategy and preprocessing without changes\n",
        "3. Train xgboost model\n",
        "4. Train lightgbm model\n",
        "5. Train catboost model\n",
        "6. Compare performance on local validation and on test set on kaggle"
      ]
    },
    {
      "cell_type": "code",
      "execution_count": 2,
      "metadata": {},
      "outputs": [],
      "source": [
        "# !pip install xgboost\n",
        "# !pip install lightgbm\n",
        "# !pip install catboost"
      ]
    },
    {
      "cell_type": "code",
      "execution_count": 3,
      "metadata": {},
      "outputs": [],
      "source": [
        "import pandas as pd\n",
        "import numpy as np\n",
        "\n",
        "from sklearn.compose import ColumnTransformer\n",
        "from sklearn.preprocessing import OneHotEncoder\n",
        "from sklearn.model_selection import StratifiedKFold, cross_val_score\n",
        "from sklearn.metrics import make_scorer, accuracy_score\n",
        "\n",
        "pd.set_option('display.max_colwidth', None)\n",
        "pd.set_option('display.max_columns', None)\n",
        "\n",
        "import xgboost as xgb\n",
        "import lightgbm as lgb\n",
        "import catboost as ctb"
      ]
    },
    {
      "cell_type": "code",
      "execution_count": 4,
      "metadata": {},
      "outputs": [],
      "source": [
        "csv_train = r'https://drive.usercontent.google.com/download?id=1RIKv1X_XWYAPCsmH6UPKOue3nHu1pkGJ&export=download&authuser=0'\n",
        "csv_test = r'https://drive.usercontent.google.com/download?id=1dNHk0lq04yQDpfz3_lf4PX2rZEQWrHnp&export=download&authuser=0&confirm=t&uuid=668130f8-48df-4ba3-ac54-d187c7f65b60&at=AO7h07cWJg4cofkmU9mkqR7XAEl7:1724719828412'\n",
        "\n",
        "train_raw = pd.read_csv(csv_train)\n",
        "test_raw = pd.read_csv(csv_test)"
      ]
    },
    {
      "cell_type": "code",
      "execution_count": 5,
      "metadata": {},
      "outputs": [
        {
          "name": "stderr",
          "output_type": "stream",
          "text": [
            "<>:20: SyntaxWarning: invalid escape sequence '\\.'\n",
            "<>:20: SyntaxWarning: invalid escape sequence '\\.'\n",
            "C:\\Users\\De\\AppData\\Local\\Temp\\ipykernel_5468\\1988405248.py:20: SyntaxWarning: invalid escape sequence '\\.'\n",
            "  data['ticket_prefix'] = data['Ticket'].str.extract(r'(.*) \\d*').replace('\\.', '', regex=True).fillna('')\n"
          ]
        },
        {
          "data": {
            "text/html": [
              "<div>\n",
              "<style scoped>\n",
              "    .dataframe tbody tr th:only-of-type {\n",
              "        vertical-align: middle;\n",
              "    }\n",
              "\n",
              "    .dataframe tbody tr th {\n",
              "        vertical-align: top;\n",
              "    }\n",
              "\n",
              "    .dataframe thead th {\n",
              "        text-align: right;\n",
              "    }\n",
              "</style>\n",
              "<table border=\"1\" class=\"dataframe\">\n",
              "  <thead>\n",
              "    <tr style=\"text-align: right;\">\n",
              "      <th></th>\n",
              "      <th>Pclass</th>\n",
              "      <th>Sex</th>\n",
              "      <th>Age</th>\n",
              "      <th>SibSp</th>\n",
              "      <th>Parch</th>\n",
              "      <th>Fare</th>\n",
              "      <th>Embarked</th>\n",
              "      <th>missing_age</th>\n",
              "      <th>missing_fare</th>\n",
              "      <th>missing_embarked</th>\n",
              "      <th>missing_cabin</th>\n",
              "      <th>title</th>\n",
              "      <th>ticket_prefix</th>\n",
              "      <th>cabin_letter</th>\n",
              "      <th>people_per_ticket</th>\n",
              "      <th>is_zero_price</th>\n",
              "      <th>family_size</th>\n",
              "    </tr>\n",
              "    <tr>\n",
              "      <th>PassengerId</th>\n",
              "      <th></th>\n",
              "      <th></th>\n",
              "      <th></th>\n",
              "      <th></th>\n",
              "      <th></th>\n",
              "      <th></th>\n",
              "      <th></th>\n",
              "      <th></th>\n",
              "      <th></th>\n",
              "      <th></th>\n",
              "      <th></th>\n",
              "      <th></th>\n",
              "      <th></th>\n",
              "      <th></th>\n",
              "      <th></th>\n",
              "      <th></th>\n",
              "      <th></th>\n",
              "    </tr>\n",
              "  </thead>\n",
              "  <tbody>\n",
              "    <tr>\n",
              "      <th>1</th>\n",
              "      <td>3</td>\n",
              "      <td>male</td>\n",
              "      <td>22.000000</td>\n",
              "      <td>1</td>\n",
              "      <td>0</td>\n",
              "      <td>7.2500</td>\n",
              "      <td>S</td>\n",
              "      <td>0</td>\n",
              "      <td>0</td>\n",
              "      <td>0</td>\n",
              "      <td>1</td>\n",
              "      <td>Mr</td>\n",
              "      <td>A/5</td>\n",
              "      <td>Unknown</td>\n",
              "      <td>1</td>\n",
              "      <td>0</td>\n",
              "      <td>2</td>\n",
              "    </tr>\n",
              "    <tr>\n",
              "      <th>2</th>\n",
              "      <td>1</td>\n",
              "      <td>female</td>\n",
              "      <td>38.000000</td>\n",
              "      <td>1</td>\n",
              "      <td>0</td>\n",
              "      <td>71.2833</td>\n",
              "      <td>C</td>\n",
              "      <td>0</td>\n",
              "      <td>0</td>\n",
              "      <td>0</td>\n",
              "      <td>0</td>\n",
              "      <td>Mrs</td>\n",
              "      <td>PC</td>\n",
              "      <td>C</td>\n",
              "      <td>2</td>\n",
              "      <td>0</td>\n",
              "      <td>2</td>\n",
              "    </tr>\n",
              "    <tr>\n",
              "      <th>3</th>\n",
              "      <td>3</td>\n",
              "      <td>female</td>\n",
              "      <td>26.000000</td>\n",
              "      <td>0</td>\n",
              "      <td>0</td>\n",
              "      <td>7.9250</td>\n",
              "      <td>S</td>\n",
              "      <td>0</td>\n",
              "      <td>0</td>\n",
              "      <td>0</td>\n",
              "      <td>1</td>\n",
              "      <td>Miss</td>\n",
              "      <td>STON/O2</td>\n",
              "      <td>Unknown</td>\n",
              "      <td>1</td>\n",
              "      <td>0</td>\n",
              "      <td>1</td>\n",
              "    </tr>\n",
              "    <tr>\n",
              "      <th>4</th>\n",
              "      <td>1</td>\n",
              "      <td>female</td>\n",
              "      <td>35.000000</td>\n",
              "      <td>1</td>\n",
              "      <td>0</td>\n",
              "      <td>53.1000</td>\n",
              "      <td>S</td>\n",
              "      <td>0</td>\n",
              "      <td>0</td>\n",
              "      <td>0</td>\n",
              "      <td>0</td>\n",
              "      <td>Mrs</td>\n",
              "      <td></td>\n",
              "      <td>C</td>\n",
              "      <td>2</td>\n",
              "      <td>0</td>\n",
              "      <td>2</td>\n",
              "    </tr>\n",
              "    <tr>\n",
              "      <th>5</th>\n",
              "      <td>3</td>\n",
              "      <td>male</td>\n",
              "      <td>35.000000</td>\n",
              "      <td>0</td>\n",
              "      <td>0</td>\n",
              "      <td>8.0500</td>\n",
              "      <td>S</td>\n",
              "      <td>0</td>\n",
              "      <td>0</td>\n",
              "      <td>0</td>\n",
              "      <td>1</td>\n",
              "      <td>Mr</td>\n",
              "      <td></td>\n",
              "      <td>Unknown</td>\n",
              "      <td>1</td>\n",
              "      <td>0</td>\n",
              "      <td>1</td>\n",
              "    </tr>\n",
              "    <tr>\n",
              "      <th>...</th>\n",
              "      <td>...</td>\n",
              "      <td>...</td>\n",
              "      <td>...</td>\n",
              "      <td>...</td>\n",
              "      <td>...</td>\n",
              "      <td>...</td>\n",
              "      <td>...</td>\n",
              "      <td>...</td>\n",
              "      <td>...</td>\n",
              "      <td>...</td>\n",
              "      <td>...</td>\n",
              "      <td>...</td>\n",
              "      <td>...</td>\n",
              "      <td>...</td>\n",
              "      <td>...</td>\n",
              "      <td>...</td>\n",
              "      <td>...</td>\n",
              "    </tr>\n",
              "    <tr>\n",
              "      <th>887</th>\n",
              "      <td>2</td>\n",
              "      <td>male</td>\n",
              "      <td>27.000000</td>\n",
              "      <td>0</td>\n",
              "      <td>0</td>\n",
              "      <td>13.0000</td>\n",
              "      <td>S</td>\n",
              "      <td>0</td>\n",
              "      <td>0</td>\n",
              "      <td>0</td>\n",
              "      <td>1</td>\n",
              "      <td>Rev</td>\n",
              "      <td></td>\n",
              "      <td>Unknown</td>\n",
              "      <td>1</td>\n",
              "      <td>0</td>\n",
              "      <td>1</td>\n",
              "    </tr>\n",
              "    <tr>\n",
              "      <th>888</th>\n",
              "      <td>1</td>\n",
              "      <td>female</td>\n",
              "      <td>19.000000</td>\n",
              "      <td>0</td>\n",
              "      <td>0</td>\n",
              "      <td>30.0000</td>\n",
              "      <td>S</td>\n",
              "      <td>0</td>\n",
              "      <td>0</td>\n",
              "      <td>0</td>\n",
              "      <td>0</td>\n",
              "      <td>Miss</td>\n",
              "      <td></td>\n",
              "      <td>B</td>\n",
              "      <td>1</td>\n",
              "      <td>0</td>\n",
              "      <td>1</td>\n",
              "    </tr>\n",
              "    <tr>\n",
              "      <th>889</th>\n",
              "      <td>3</td>\n",
              "      <td>female</td>\n",
              "      <td>29.699118</td>\n",
              "      <td>1</td>\n",
              "      <td>2</td>\n",
              "      <td>23.4500</td>\n",
              "      <td>S</td>\n",
              "      <td>1</td>\n",
              "      <td>0</td>\n",
              "      <td>0</td>\n",
              "      <td>1</td>\n",
              "      <td>Miss</td>\n",
              "      <td>W/C</td>\n",
              "      <td>Unknown</td>\n",
              "      <td>3</td>\n",
              "      <td>0</td>\n",
              "      <td>4</td>\n",
              "    </tr>\n",
              "    <tr>\n",
              "      <th>890</th>\n",
              "      <td>1</td>\n",
              "      <td>male</td>\n",
              "      <td>26.000000</td>\n",
              "      <td>0</td>\n",
              "      <td>0</td>\n",
              "      <td>30.0000</td>\n",
              "      <td>C</td>\n",
              "      <td>0</td>\n",
              "      <td>0</td>\n",
              "      <td>0</td>\n",
              "      <td>0</td>\n",
              "      <td>Mr</td>\n",
              "      <td></td>\n",
              "      <td>C</td>\n",
              "      <td>1</td>\n",
              "      <td>0</td>\n",
              "      <td>1</td>\n",
              "    </tr>\n",
              "    <tr>\n",
              "      <th>891</th>\n",
              "      <td>3</td>\n",
              "      <td>male</td>\n",
              "      <td>32.000000</td>\n",
              "      <td>0</td>\n",
              "      <td>0</td>\n",
              "      <td>7.7500</td>\n",
              "      <td>Q</td>\n",
              "      <td>0</td>\n",
              "      <td>0</td>\n",
              "      <td>0</td>\n",
              "      <td>1</td>\n",
              "      <td>Mr</td>\n",
              "      <td></td>\n",
              "      <td>Unknown</td>\n",
              "      <td>1</td>\n",
              "      <td>0</td>\n",
              "      <td>1</td>\n",
              "    </tr>\n",
              "  </tbody>\n",
              "</table>\n",
              "<p>891 rows × 17 columns</p>\n",
              "</div>"
            ],
            "text/plain": [
              "             Pclass     Sex        Age  SibSp  Parch     Fare Embarked  \\\n",
              "PassengerId                                                              \n",
              "1                 3    male  22.000000      1      0   7.2500        S   \n",
              "2                 1  female  38.000000      1      0  71.2833        C   \n",
              "3                 3  female  26.000000      0      0   7.9250        S   \n",
              "4                 1  female  35.000000      1      0  53.1000        S   \n",
              "5                 3    male  35.000000      0      0   8.0500        S   \n",
              "...             ...     ...        ...    ...    ...      ...      ...   \n",
              "887               2    male  27.000000      0      0  13.0000        S   \n",
              "888               1  female  19.000000      0      0  30.0000        S   \n",
              "889               3  female  29.699118      1      2  23.4500        S   \n",
              "890               1    male  26.000000      0      0  30.0000        C   \n",
              "891               3    male  32.000000      0      0   7.7500        Q   \n",
              "\n",
              "             missing_age  missing_fare  missing_embarked  missing_cabin title  \\\n",
              "PassengerId                                                                     \n",
              "1                      0             0                 0              1    Mr   \n",
              "2                      0             0                 0              0   Mrs   \n",
              "3                      0             0                 0              1  Miss   \n",
              "4                      0             0                 0              0   Mrs   \n",
              "5                      0             0                 0              1    Mr   \n",
              "...                  ...           ...               ...            ...   ...   \n",
              "887                    0             0                 0              1   Rev   \n",
              "888                    0             0                 0              0  Miss   \n",
              "889                    1             0                 0              1  Miss   \n",
              "890                    0             0                 0              0    Mr   \n",
              "891                    0             0                 0              1    Mr   \n",
              "\n",
              "            ticket_prefix cabin_letter  people_per_ticket  is_zero_price  \\\n",
              "PassengerId                                                                \n",
              "1                     A/5      Unknown                  1              0   \n",
              "2                      PC            C                  2              0   \n",
              "3                 STON/O2      Unknown                  1              0   \n",
              "4                                    C                  2              0   \n",
              "5                              Unknown                  1              0   \n",
              "...                   ...          ...                ...            ...   \n",
              "887                            Unknown                  1              0   \n",
              "888                                  B                  1              0   \n",
              "889                   W/C      Unknown                  3              0   \n",
              "890                                  C                  1              0   \n",
              "891                            Unknown                  1              0   \n",
              "\n",
              "             family_size  \n",
              "PassengerId               \n",
              "1                      2  \n",
              "2                      2  \n",
              "3                      1  \n",
              "4                      2  \n",
              "5                      1  \n",
              "...                  ...  \n",
              "887                    1  \n",
              "888                    1  \n",
              "889                    4  \n",
              "890                    1  \n",
              "891                    1  \n",
              "\n",
              "[891 rows x 17 columns]"
            ]
          },
          "execution_count": 5,
          "metadata": {},
          "output_type": "execute_result"
        }
      ],
      "source": [
        "age_mean_train = train_raw['Age'].mean()\n",
        "embarked_top_train = train_raw['Embarked'].value_counts().index[0]\n",
        "fare_mean_train = train_raw['Fare'].mean()\n",
        "\n",
        "pclass_fare = {\n",
        "    1: 30,\n",
        "    2: 12,\n",
        "    3: 7\n",
        "}\n",
        "\n",
        "def enhance_features(data):\n",
        "    data = data.copy().set_index('PassengerId')\n",
        "        \n",
        "    data['missing_age'] = data['Age'].isnull().astype(int)\n",
        "    data['missing_fare'] = data['Fare'].isnull().astype(int)\n",
        "    data['missing_embarked'] = data['Embarked'].isnull().astype(int)\n",
        "    data['missing_cabin'] = data['Cabin'].isnull().astype(int)\n",
        "    \n",
        "    data['title'] = data['Name'].str.extract(r'[^,]*, ([^.]*)\\. .*')\n",
        "    data['ticket_prefix'] = data['Ticket'].str.extract(r'(.*) \\d*').replace('\\.', '', regex=True).fillna('')    \n",
        "    data['cabin_letter'] = data['Cabin'].str.extract(r'([A-Za-z]*)\\d*')\n",
        "    \n",
        "    data['Age'] = data['Age'].fillna(age_mean_train)\n",
        "    data['Fare'] = data['Fare'].fillna(fare_mean_train)    \n",
        "    data['Embarked'] = data['Embarked'].fillna(embarked_top_train)\n",
        "    data['cabin_letter'] = data['cabin_letter'].fillna('Unknown')\n",
        "    \n",
        "    data['fare_per_person'] = data['Pclass'].map(pclass_fare)\n",
        "    data['people_per_ticket'] = (data['Fare'] / data['fare_per_person']).round().astype(int)\n",
        "    data['is_zero_price'] = (data['Fare'] == 0).round().astype(int)\n",
        "    \n",
        "    data['family_size'] = data['SibSp'] + data['Parch'] + 1\n",
        "    \n",
        "    return data.drop(columns=['Name', 'Ticket', 'Cabin', 'fare_per_person']) #, 'Fare', 'SibSp', 'Parch'\n",
        "\n",
        "train_X = enhance_features(train_raw.drop(columns=['Survived']))\n",
        "train_y = train_raw['Survived']\n",
        "\n",
        "test_X = enhance_features(test_raw)\n",
        "\n",
        "train_X"
      ]
    },
    {
      "cell_type": "markdown",
      "metadata": {},
      "source": [
        "# XGB"
      ]
    },
    {
      "cell_type": "code",
      "execution_count": 6,
      "metadata": {},
      "outputs": [
        {
          "data": {
            "text/plain": [
              "['one_hot__Sex_female',\n",
              " 'one_hot__Sex_male',\n",
              " 'one_hot__Embarked_C',\n",
              " 'one_hot__Embarked_Q',\n",
              " 'one_hot__Embarked_S',\n",
              " 'one_hot__title_Capt',\n",
              " 'one_hot__title_Col',\n",
              " 'one_hot__title_Don',\n",
              " 'one_hot__title_Dr',\n",
              " 'one_hot__title_Jonkheer',\n",
              " 'one_hot__title_Lady',\n",
              " 'one_hot__title_Major',\n",
              " 'one_hot__title_Master',\n",
              " 'one_hot__title_Miss',\n",
              " 'one_hot__title_Mlle',\n",
              " 'one_hot__title_Mme',\n",
              " 'one_hot__title_Mr',\n",
              " 'one_hot__title_Mrs',\n",
              " 'one_hot__title_Ms',\n",
              " 'one_hot__title_Rev',\n",
              " 'one_hot__title_Sir',\n",
              " 'one_hot__title_the Countess',\n",
              " 'one_hot__ticket_prefix_',\n",
              " 'one_hot__ticket_prefix_A/4',\n",
              " 'one_hot__ticket_prefix_A/5',\n",
              " 'one_hot__ticket_prefix_A/S',\n",
              " 'one_hot__ticket_prefix_A4',\n",
              " 'one_hot__ticket_prefix_A5',\n",
              " 'one_hot__ticket_prefix_C',\n",
              " 'one_hot__ticket_prefix_CA',\n",
              " 'one_hot__ticket_prefix_CA/SOTON',\n",
              " 'one_hot__ticket_prefix_FC',\n",
              " 'one_hot__ticket_prefix_FCC',\n",
              " 'one_hot__ticket_prefix_Fa',\n",
              " 'one_hot__ticket_prefix_P/PP',\n",
              " 'one_hot__ticket_prefix_PC',\n",
              " 'one_hot__ticket_prefix_PP',\n",
              " 'one_hot__ticket_prefix_SC',\n",
              " 'one_hot__ticket_prefix_SC/A4',\n",
              " 'one_hot__ticket_prefix_SC/AH',\n",
              " 'one_hot__ticket_prefix_SC/AH Basle',\n",
              " 'one_hot__ticket_prefix_SC/PARIS',\n",
              " 'one_hot__ticket_prefix_SC/Paris',\n",
              " 'one_hot__ticket_prefix_SCO/W',\n",
              " 'one_hot__ticket_prefix_SO/C',\n",
              " 'one_hot__ticket_prefix_SO/PP',\n",
              " 'one_hot__ticket_prefix_SOC',\n",
              " 'one_hot__ticket_prefix_SOP',\n",
              " 'one_hot__ticket_prefix_SOTON/O2',\n",
              " 'one_hot__ticket_prefix_SOTON/OQ',\n",
              " 'one_hot__ticket_prefix_SP',\n",
              " 'one_hot__ticket_prefix_STON/O 2',\n",
              " 'one_hot__ticket_prefix_STON/O2',\n",
              " 'one_hot__ticket_prefix_SW/PP',\n",
              " 'one_hot__ticket_prefix_W/C',\n",
              " 'one_hot__ticket_prefix_WE/P',\n",
              " 'one_hot__ticket_prefix_WEP',\n",
              " 'one_hot__cabin_letter_A',\n",
              " 'one_hot__cabin_letter_B',\n",
              " 'one_hot__cabin_letter_C',\n",
              " 'one_hot__cabin_letter_D',\n",
              " 'one_hot__cabin_letter_E',\n",
              " 'one_hot__cabin_letter_F',\n",
              " 'one_hot__cabin_letter_G',\n",
              " 'one_hot__cabin_letter_T',\n",
              " 'one_hot__cabin_letter_Unknown',\n",
              " 'remainder__Pclass',\n",
              " 'remainder__Age',\n",
              " 'remainder__SibSp',\n",
              " 'remainder__Parch',\n",
              " 'remainder__Fare',\n",
              " 'remainder__missing_age',\n",
              " 'remainder__missing_fare',\n",
              " 'remainder__missing_embarked',\n",
              " 'remainder__missing_cabin',\n",
              " 'remainder__people_per_ticket',\n",
              " 'remainder__is_zero_price',\n",
              " 'remainder__family_size']"
            ]
          },
          "execution_count": 6,
          "metadata": {},
          "output_type": "execute_result"
        }
      ],
      "source": [
        "preprocessor = ColumnTransformer(\n",
        "    transformers=[\n",
        "        ('one_hot', OneHotEncoder(categories='auto', handle_unknown='ignore'), ['Sex', 'Embarked', 'title', 'ticket_prefix', 'cabin_letter']),\n",
        "    ],\n",
        "    remainder='passthrough'\n",
        ")\n",
        "\n",
        "train_X_preprocessed = preprocessor.fit_transform(train_X)\n",
        "test_X_preprocessed = preprocessor.transform(test_X)\n",
        "\n",
        "feature_names = list(preprocessor.get_feature_names_out())\n",
        "xgb_train = xgb.DMatrix(train_X_preprocessed, train_y, feature_names=feature_names)\n",
        "xgb_test = xgb.DMatrix(test_X_preprocessed, feature_names=feature_names)\n",
        "\n",
        "feature_names"
      ]
    },
    {
      "cell_type": "code",
      "execution_count": 20,
      "metadata": {},
      "outputs": [
        {
          "name": "stdout",
          "output_type": "stream",
          "text": [
            "[0]\ttrain-error:0.38384+0.00042\ttest-error:0.38383+0.00375\n",
            "[10]\ttrain-error:0.13056+0.00430\ttest-error:0.16494+0.04778\n",
            "[20]\ttrain-error:0.12034+0.00434\ttest-error:0.16719+0.04816\n",
            "[21]\ttrain-error:0.11922+0.00597\ttest-error:0.16719+0.04405\n",
            "    train-error-mean  train-error-std  test-error-mean  test-error-std\n",
            "11          0.127696          0.00409         0.160449         0.05083\n",
            "Params:  {'objective': 'binary:logistic', 'eval_metric': 'error', 'eta': 0.1, 'max_depth': 5, 'subsample': 0.7, 'colsample_bytree': 0.8}\n",
            "n_estimators:  12\n"
          ]
        }
      ],
      "source": [
        "cv = StratifiedKFold(n_splits=10, shuffle=True, random_state=1)\n",
        "\n",
        "xgb_parameters = {\n",
        "    \"objective\": \"binary:logistic\",\n",
        "    \"eval_metric\": \"error\",\n",
        "    \"eta\": 0.1,\n",
        "\n",
        "    # regularization parameters\n",
        "    \"max_depth\": 5,\n",
        "    #\"max_leaves\": 32,\n",
        "    \"subsample\": 0.7,\n",
        "    \"colsample_bytree\": 0.8,\n",
        "\n",
        "    #lightgbm approach\n",
        "    # \"tree_method\": \"hist\",\n",
        "    # \"grow_policy\": \"lossguide\"\n",
        "}\n",
        "\n",
        "xgb_cv_results = xgb.cv(\n",
        "    xgb_parameters, \n",
        "    xgb_train,\n",
        "    folds=cv,\n",
        "    num_boost_round=1000, \n",
        "    early_stopping_rounds=10, \n",
        "    verbose_eval=10\n",
        ")\n",
        "\n",
        "n_estimators = xgb_cv_results.shape[0]\n",
        "\n",
        "print(xgb_cv_results[-1:])\n",
        "print('Params: ', xgb_parameters)\n",
        "print('n_estimators: ', n_estimators)"
      ]
    },
    {
      "cell_type": "code",
      "execution_count": 38,
      "metadata": {},
      "outputs": [
        {
          "name": "stdout",
          "output_type": "stream",
          "text": [
            "Mean accuracy on cv train: 0.8723037910840875\n",
            "Mean accuracy on cv test: 0.8395505617977528\n"
          ]
        }
      ],
      "source": [
        "print(f'Mean accuracy on cv train: {1 - xgb_cv_results['train-error-mean'].iat[-1]}')\n",
        "print(f'Mean accuracy on cv test: {1 - xgb_cv_results['test-error-mean'].iat[-1]}')"
      ]
    },
    {
      "cell_type": "code",
      "execution_count": 39,
      "metadata": {},
      "outputs": [
        {
          "name": "stdout",
          "output_type": "stream",
          "text": [
            "Accuracy on all train: 0.8698092031425365\n"
          ]
        }
      ],
      "source": [
        "xgb_model = xgb.train(xgb_parameters, xgb_train, num_boost_round=n_estimators)\n",
        "\n",
        "xgb_train_y_predict = (xgb_model.predict(xgb_train) >= 0.5).astype(int)\n",
        "xgb_train_score = accuracy_score(xgb_train_y_predict, np.array(train_y))\n",
        "print(f'Accuracy on all train: {xgb_train_score}')"
      ]
    },
    {
      "cell_type": "code",
      "execution_count": 40,
      "metadata": {},
      "outputs": [],
      "source": [
        "xgb_test_with_pred = test_X.copy()\n",
        "\n",
        "xgb_test_with_pred['Survived'] = (xgb_model.predict(xgb_test) >= 0.5).astype(int)\n",
        "xgb_test_with_pred['Survived'].to_csv('xgb_test_results.csv', index=True)\n",
        "\n",
        "# Verify result csv hasn't changed since prev HW"
      ]
    },
    {
      "cell_type": "code",
      "execution_count": null,
      "metadata": {},
      "outputs": [],
      "source": []
    },
    {
      "cell_type": "code",
      "execution_count": null,
      "metadata": {},
      "outputs": [],
      "source": []
    },
    {
      "cell_type": "code",
      "execution_count": null,
      "metadata": {},
      "outputs": [],
      "source": []
    },
    {
      "cell_type": "markdown",
      "metadata": {},
      "source": [
        "# LightGBM"
      ]
    },
    {
      "cell_type": "markdown",
      "metadata": {},
      "source": [
        "We saw on xgb example that titanic dataset is small and early stopping doesn't improve time much. So let's just use grid search without early stopping"
      ]
    },
    {
      "cell_type": "code",
      "execution_count": 21,
      "metadata": {},
      "outputs": [],
      "source": [
        "categorical_feature = ['Sex', 'Embarked', 'title', 'ticket_prefix', 'cabin_letter']\n",
        "\n",
        "cv = StratifiedKFold(n_splits=10, shuffle=True, random_state=42)\n",
        "scoring = make_scorer(accuracy_score)\n",
        "\n",
        "def make_categorical_columns(df):\n",
        "    df_lgb_adjusted = df.copy()\n",
        "    for col in categorical_feature:\n",
        "        df_lgb_adjusted[col] = df_lgb_adjusted[col].astype('category')\n",
        "        \n",
        "    return df_lgb_adjusted\n",
        "\n",
        "lgb_train = lgb.Dataset(make_categorical_columns(train_X), label=train_y, free_raw_data=False)\n",
        "lgb_test = lgb.Dataset(make_categorical_columns(test_X), free_raw_data=False)"
      ]
    },
    {
      "cell_type": "code",
      "execution_count": 27,
      "metadata": {},
      "outputs": [
        {
          "name": "stderr",
          "output_type": "stream",
          "text": [
            "c:\\Python\\envs\\ds1\\Lib\\site-packages\\sklearn\\model_selection\\_split.py:848: UserWarning: The groups parameter is ignored by StratifiedKFold\n",
            "  warnings.warn(\n"
          ]
        },
        {
          "name": "stdout",
          "output_type": "stream",
          "text": [
            "Training until validation scores don't improve for 10 rounds\n",
            "Early stopping, best iteration is:\n",
            "[31]\tcv_agg's valid binary_logloss: 0.413101 + 0.0622608\n",
            "accuracy score on cross-validation: 0.8249188514357053\n",
            "accuracy score on all train data: 0.9595959595959596\n"
          ]
        }
      ],
      "source": [
        "lgb_params1 = {\n",
        "    'objective': 'binary',\n",
        "    'metric': 'binary_logloss', # 'auc'\n",
        "    'boosting_type': 'gbdt',\n",
        "    'verbosity': -1    \n",
        "}\n",
        "lgb_rounds = 1000\n",
        "    \n",
        "lgb_results1 = lgb.cv(lgb_params1, lgb_train, lgb_rounds, folds=cv, callbacks=[lgb.early_stopping(10), lgb.log_evaluation(period=100)])\n",
        "lgb_rounds1_ = len(list(lgb_results1.items())[0][1])\n",
        "\n",
        "lgbClassifier1 = lgb.LGBMClassifier(random_state=3, **lgb_params1, lgb_rounds=lgb_rounds1_)\n",
        "lgbClassifier_results1 = cross_val_score(lgbClassifier1, make_categorical_columns(train_X), train_y, cv=cv, scoring=scoring)\n",
        "print(f'accuracy score on cross-validation: {lgbClassifier_results1.mean()}')\n",
        "\n",
        "lgbClassifier1.fit(make_categorical_columns(train_X), train_y)\n",
        "lgb_train_y_predict1 = (lgbClassifier1.predict(make_categorical_columns(train_X)) >= 0.5).astype(int)\n",
        "lgb_train_score1 = accuracy_score(lgb_train_y_predict1, np.array(train_y))\n",
        "print(f'accuracy score on all train data: {lgb_train_score1}')"
      ]
    },
    {
      "cell_type": "code",
      "execution_count": 54,
      "metadata": {},
      "outputs": [
        {
          "name": "stderr",
          "output_type": "stream",
          "text": [
            "c:\\Python\\envs\\ds1\\Lib\\site-packages\\sklearn\\model_selection\\_split.py:848: UserWarning: The groups parameter is ignored by StratifiedKFold\n",
            "  warnings.warn(\n"
          ]
        },
        {
          "name": "stdout",
          "output_type": "stream",
          "text": [
            "Training until validation scores don't improve for 10 rounds\n",
            "[100]\tcv_agg's valid binary_logloss: 0.465583 + 0.0353079\n",
            "[200]\tcv_agg's valid binary_logloss: 0.418851 + 0.0488093\n",
            "[300]\tcv_agg's valid binary_logloss: 0.410587 + 0.0541758\n",
            "Early stopping, best iteration is:\n",
            "[294]\tcv_agg's valid binary_logloss: 0.410293 + 0.0538444\n",
            "Paraemters: {'objective': 'binary', 'metric': 'binary_logloss', 'boosting_type': 'gbdt', 'learning_rate': 0.01, 'colsample_bytree': 0.8, 'subsample': 0.8, 'subsample_freq': 1, 'min_data_in_leaf': 15, 'cat_smooth': 10, 'min_data_per_group': 50}\n",
            "accuracy score on cross-validation: 0.819338327091136\n",
            "accuracy score on all train data: 0.8608305274971941\n"
          ]
        }
      ],
      "source": [
        "lgb_params2 = {\n",
        "    'objective': 'binary',\n",
        "    'metric': 'binary_logloss',\n",
        "    'boosting_type': 'gbdt',\n",
        "    \"learning_rate\": 0.01,\n",
        "\n",
        "    #regularization\n",
        "    \"colsample_bytree\": 0.8,\n",
        "    \"subsample\": 0.8,\n",
        "    \"subsample_freq\": 1,\n",
        "    \"min_data_in_leaf\": 15,\n",
        "\n",
        "    #categorical features\n",
        "    'cat_smooth': 10,\n",
        "    'min_data_per_group': 50\n",
        "}\n",
        "# best_params: {'boosting_type': 'gbdt', 'cat_smooth': 10, 'colsample_bytree': 0.4, 'learning_rate': 0.1, 'metric': 'binary_logloss', 'min_data_in_leaf': 5, 'min_data_per_group': 20, 'num_leaves': 8, 'subsample': 0.4}\n",
        "# accuracy score on cross-validation: 0.8338202247191011\n",
        "\n",
        "lgb_rounds = 1000\n",
        "    \n",
        "lgb_results2 = lgb.cv(lgb_params2, lgb_train, lgb_rounds, folds=cv, callbacks=[lgb.early_stopping(10), lgb.log_evaluation(period=100)])\n",
        "lgb_rounds2_ = len(list(lgb_results2.items())[0][1])\n",
        "\n",
        "lgbClassifier2 = lgb.LGBMClassifier(random_state=3, **lgb_params2, lgb_rounds=lgb_rounds2_)\n",
        "lgbClassifier_results2 = cross_val_score(lgbClassifier2, make_categorical_columns(train_X), train_y, cv=cv, scoring=scoring)\n",
        "print(f'Paraemters: {lgb_params2}')\n",
        "print(f'accuracy score on cross-validation: {lgbClassifier_results2.mean()}')\n",
        "\n",
        "lgbClassifier2.fit(make_categorical_columns(train_X), train_y)\n",
        "lgb_train_y_predict2 = (lgbClassifier2.predict(make_categorical_columns(train_X)) >= 0.5).astype(int)\n",
        "lgb_train_score2 = accuracy_score(lgb_train_y_predict2, np.array(train_y))\n",
        "print(f'accuracy score on all train data: {lgb_train_score2}')\n"
      ]
    },
    {
      "cell_type": "code",
      "execution_count": 37,
      "metadata": {},
      "outputs": [],
      "source": [
        "lgbm_test_results1 = test_X.copy()\n",
        "lgbm_test_results1['Survived'] = (lgbClassifier1.predict(make_categorical_columns(test_X)) >= 0.5).astype(int)\n",
        "lgbm_test_results1['Survived'].to_csv('lgbm_test_results1.csv', index=True)\n",
        "\n",
        "lgbm_test_results2 = test_X.copy()\n",
        "lgbm_test_results2['Survived'] = (lgbClassifier2.predict(make_categorical_columns(test_X)) >= 0.5).astype(int)\n",
        "lgbm_test_results2['Survived'].to_csv('lgbm_test_results2.csv', index=True)"
      ]
    },
    {
      "attachments": {
        "image-2.png": {
          "image/png": "[encoded data removed]"
        }
      },
      "cell_type": "markdown",
      "metadata": {},
      "source": [
        "![image-2.png](attachment:image-2.png)"
      ]
    },
    {
      "cell_type": "markdown",
      "metadata": {},
      "source": [
        "# Cat Boost"
      ]
    },
    {
      "cell_type": "code",
      "execution_count": 38,
      "metadata": {},
      "outputs": [],
      "source": [
        "cat_train = ctb.Pool(make_categorical_columns(train_X), train_y, cat_features=categorical_feature)\n",
        "cat_test = ctb.Pool(make_categorical_columns(test_X), cat_features=categorical_feature)"
      ]
    },
    {
      "cell_type": "code",
      "execution_count": 45,
      "metadata": {},
      "outputs": [
        {
          "name": "stderr",
          "output_type": "stream",
          "text": [
            "c:\\Python\\envs\\ds1\\Lib\\site-packages\\sklearn\\model_selection\\_split.py:848: UserWarning: The groups parameter is ignored by StratifiedKFold\n",
            "  warnings.warn(\n"
          ]
        },
        {
          "data": {
            "application/vnd.jupyter.widget-view+json": {
              "model_id": "d391b2d9c5de4e4495e2f2eb3842b810",
              "version_major": 2,
              "version_minor": 0
            },
            "text/plain": [
              "MetricVisualizer(layout=Layout(align_self='stretch', height='500px'))"
            ]
          },
          "metadata": {},
          "output_type": "display_data"
        },
        {
          "name": "stdout",
          "output_type": "stream",
          "text": [
            "Training on fold [0/10]\n",
            "0:\tlearn: 0.8089888\ttest: 0.7888889\tbest: 0.7888889 (0)\ttotal: 52.8ms\tremaining: 52.8s\n",
            "\n",
            "bestTest = 0.8111111111\n",
            "bestIteration = 1\n",
            "\n",
            "Training on fold [1/10]\n",
            "0:\tlearn: 0.8241895\ttest: 0.8089888\tbest: 0.8089888 (0)\ttotal: 37ms\tremaining: 36.9s\n",
            "\n",
            "bestTest = 0.8651685393\n",
            "bestIteration = 27\n",
            "\n",
            "Training on fold [2/10]\n",
            "0:\tlearn: 0.8341646\ttest: 0.7528090\tbest: 0.7528090 (0)\ttotal: 36.1ms\tremaining: 36.1s\n",
            "\n",
            "bestTest = 0.797752809\n",
            "bestIteration = 10\n",
            "\n",
            "Training on fold [3/10]\n",
            "0:\tlearn: 0.8054863\ttest: 0.9101124\tbest: 0.9101124 (0)\ttotal: 32.9ms\tremaining: 32.9s\n",
            "\n",
            "bestTest = 0.9438202247\n",
            "bestIteration = 32\n",
            "\n",
            "Training on fold [4/10]\n",
            "0:\tlearn: 0.8266833\ttest: 0.7528090\tbest: 0.7528090 (0)\ttotal: 32.3ms\tremaining: 32.3s\n",
            "\n",
            "bestTest = 0.797752809\n",
            "bestIteration = 34\n",
            "\n",
            "Training on fold [5/10]\n",
            "0:\tlearn: 0.8179551\ttest: 0.8314607\tbest: 0.8314607 (0)\ttotal: 28.4ms\tremaining: 28.4s\n",
            "\n",
            "bestTest = 0.8651685393\n",
            "bestIteration = 34\n",
            "\n",
            "Training on fold [6/10]\n",
            "0:\tlearn: 0.8229426\ttest: 0.7865169\tbest: 0.7865169 (0)\ttotal: 28ms\tremaining: 28s\n",
            "100:\tlearn: 0.9039900\ttest: 0.7865169\tbest: 0.8089888 (60)\ttotal: 3.31s\tremaining: 29.5s\n",
            "\n",
            "bestTest = 0.808988764\n",
            "bestIteration = 60\n",
            "\n",
            "Training on fold [7/10]\n",
            "0:\tlearn: 0.8192020\ttest: 0.8089888\tbest: 0.8089888 (0)\ttotal: 34.7ms\tremaining: 34.6s\n",
            "\n",
            "bestTest = 0.8426966292\n",
            "bestIteration = 3\n",
            "\n",
            "Training on fold [8/10]\n",
            "0:\tlearn: 0.8179551\ttest: 0.8426966\tbest: 0.8426966 (0)\ttotal: 30.9ms\tremaining: 30.9s\n",
            "\n",
            "bestTest = 0.8988764045\n",
            "bestIteration = 13\n",
            "\n",
            "Training on fold [9/10]\n",
            "0:\tlearn: 0.8229426\ttest: 0.7640449\tbest: 0.7640449 (0)\ttotal: 27.9ms\tremaining: 27.9s\n",
            "100:\tlearn: 0.9052369\ttest: 0.8539326\tbest: 0.8651685 (57)\ttotal: 3.34s\tremaining: 29.7s\n",
            "\n",
            "bestTest = 0.8651685393\n",
            "bestIteration = 57\n",
            "\n"
          ]
        }
      ],
      "source": [
        "cat_parameters1 = {\n",
        "    \"loss_function\": \"Logloss\",\n",
        "    \"eval_metric\": \"Accuracy\",\n",
        "    \n",
        "    \"iterations\": 1000,\n",
        "    \"learning_rate\": 0.1,\n",
        "    \"od_wait\": 50,\n",
        "    \"od_type\": \"Iter\",\n",
        "}\n",
        "\n",
        "cat_result_1 = ctb.cv(cat_train, cat_parameters1, folds=cv, seed=3, verbose_eval=100, plot=True)"
      ]
    },
    {
      "cell_type": "code",
      "execution_count": 46,
      "metadata": {},
      "outputs": [
        {
          "data": {
            "text/html": [
              "<div>\n",
              "<style scoped>\n",
              "    .dataframe tbody tr th:only-of-type {\n",
              "        vertical-align: middle;\n",
              "    }\n",
              "\n",
              "    .dataframe tbody tr th {\n",
              "        vertical-align: top;\n",
              "    }\n",
              "\n",
              "    .dataframe thead th {\n",
              "        text-align: right;\n",
              "    }\n",
              "</style>\n",
              "<table border=\"1\" class=\"dataframe\">\n",
              "  <thead>\n",
              "    <tr style=\"text-align: right;\">\n",
              "      <th></th>\n",
              "      <th>iterations</th>\n",
              "      <th>test-Accuracy-mean</th>\n",
              "      <th>test-Accuracy-std</th>\n",
              "      <th>train-Accuracy-mean</th>\n",
              "      <th>train-Accuracy-std</th>\n",
              "      <th>test-Logloss-mean</th>\n",
              "      <th>test-Logloss-std</th>\n",
              "      <th>train-Logloss-mean</th>\n",
              "      <th>train-Logloss-std</th>\n",
              "    </tr>\n",
              "  </thead>\n",
              "  <tbody>\n",
              "    <tr>\n",
              "      <th>41</th>\n",
              "      <td>41</td>\n",
              "      <td>0.840674</td>\n",
              "      <td>0.051641</td>\n",
              "      <td>0.868937</td>\n",
              "      <td>0.006819</td>\n",
              "      <td>0.407593</td>\n",
              "      <td>0.056332</td>\n",
              "      <td>0.335087</td>\n",
              "      <td>0.007684</td>\n",
              "    </tr>\n",
              "    <tr>\n",
              "      <th>42</th>\n",
              "      <td>42</td>\n",
              "      <td>0.840674</td>\n",
              "      <td>0.052982</td>\n",
              "      <td>0.869311</td>\n",
              "      <td>0.006904</td>\n",
              "      <td>0.407387</td>\n",
              "      <td>0.056305</td>\n",
              "      <td>0.333929</td>\n",
              "      <td>0.007959</td>\n",
              "    </tr>\n",
              "  </tbody>\n",
              "</table>\n",
              "</div>"
            ],
            "text/plain": [
              "    iterations  test-Accuracy-mean  test-Accuracy-std  train-Accuracy-mean  \\\n",
              "41          41            0.840674           0.051641             0.868937   \n",
              "42          42            0.840674           0.052982             0.869311   \n",
              "\n",
              "    train-Accuracy-std  test-Logloss-mean  test-Logloss-std  \\\n",
              "41            0.006819           0.407593          0.056332   \n",
              "42            0.006904           0.407387          0.056305   \n",
              "\n",
              "    train-Logloss-mean  train-Logloss-std  \n",
              "41            0.335087           0.007684  \n",
              "42            0.333929           0.007959  "
            ]
          },
          "execution_count": 46,
          "metadata": {},
          "output_type": "execute_result"
        }
      ],
      "source": [
        "cat_result_1.loc[cat_result_1[\"test-Accuracy-mean\"] == cat_result_1[\"test-Accuracy-mean\"].max()]"
      ]
    },
    {
      "cell_type": "code",
      "execution_count": 55,
      "metadata": {},
      "outputs": [
        {
          "data": {
            "application/vnd.jupyter.widget-view+json": {
              "model_id": "8d9cd435b00941e9859f049559668184",
              "version_major": 2,
              "version_minor": 0
            },
            "text/plain": [
              "MetricVisualizer(layout=Layout(align_self='stretch', height='500px'))"
            ]
          },
          "metadata": {},
          "output_type": "display_data"
        },
        {
          "name": "stdout",
          "output_type": "stream",
          "text": [
            "0:\tlearn: 0.8114478\ttotal: 33ms\tremaining: 1.39s\n",
            "42:\tlearn: 0.8305275\ttotal: 1.24s\tremaining: 0us\n"
          ]
        },
        {
          "data": {
            "text/plain": [
              "<catboost.core.CatBoostClassifier at 0x229d3fd43b0>"
            ]
          },
          "execution_count": 55,
          "metadata": {},
          "output_type": "execute_result"
        }
      ],
      "source": [
        "cat_parameters1['iterations'] = 43\n",
        "catboost_model = ctb.CatBoostClassifier(**cat_parameters1)\n",
        "catboost_model.fit(cat_train, verbose_eval=100, plot=True)"
      ]
    },
    {
      "cell_type": "code",
      "execution_count": 58,
      "metadata": {},
      "outputs": [
        {
          "name": "stdout",
          "output_type": "stream",
          "text": [
            "Params:  {'loss_function': 'Logloss', 'eval_metric': 'Accuracy', 'iterations': 43, 'learning_rate': 0.1, 'od_wait': 50, 'od_type': 'Iter'}\n",
            "accuracy score on all train data: 0.8383838383838383\n"
          ]
        }
      ],
      "source": [
        "print('Params: ', cat_parameters1)\n",
        "print('accuracy score on all train data:', accuracy_score(catboost_model.predict(cat_train), train_y))"
      ]
    },
    {
      "cell_type": "code",
      "execution_count": 59,
      "metadata": {},
      "outputs": [],
      "source": [
        "cat_test_results = test_X.copy()\n",
        "cat_test_results['Survived'] = catboost_model.predict(cat_test)\n",
        "cat_test_results['Survived'].to_csv('cat_test_results.csv', index=True)"
      ]
    },
    {
      "cell_type": "markdown",
      "metadata": {},
      "source": [
        "### XGBoost\n",
        "- Params:  {'objective': 'binary:logistic', 'eval_metric': 'error', 'eta': 0.1, 'max_depth': 5, 'subsample': 0.7, 'colsample_bytree': 0.8}\n",
        "- accuracy score on cross-validation: 0.830561797752809\n",
        "- accuracy score on all train data: 0.8698092031425365\n",
        "\n",
        "### LGBM\n",
        "- Paraemters: {'objective': 'binary', 'metric': 'binary_logloss', 'boosting_type': 'gbdt', 'learning_rate': 0.01, 'colsample_bytree': 0.8, 'subsample': 0.8, 'subsample_freq': 1, 'min_data_in_leaf': 15, 'cat_smooth': 10, 'min_data_per_group': 50}\n",
        "- accuracy score on cross-validation: 0.819338327091136\n",
        "- accuracy score on all train data: 0.8608305274971941\n",
        "\n",
        "### CatBoost\n",
        "- Params:  {'loss_function': 'Logloss', 'eval_metric': 'Accuracy', 'iterations': 43, 'learning_rate': 0.1, 'od_wait': 50, 'od_type': 'Iter'}\n",
        "- accuracy score on all train data: 0.8383838383838383\n"
      ]
    },
    {
      "attachments": {
        "image.png": {
          "image/png": "[encoded data removed]"
        }
      },
      "cell_type": "markdown",
      "metadata": {},
      "source": [
        "![image.png](attachment:image.png)"
      ]
    },
    {
      "cell_type": "markdown",
      "metadata": {},
      "source": []
    }
  ],
  "metadata": {
    "colab": {
      "collapsed_sections": [],
      "name": "Bagging homework.ipynb",
      "provenance": []
    },
    "kernelspec": {
      "display_name": "Python 3",
      "name": "python3"
    },
    "language_info": {
      "codemirror_mode": {
        "name": "ipython",
        "version": 3
      },
      "file_extension": ".py",
      "mimetype": "text/x-python",
      "name": "python",
      "nbconvert_exporter": "python",
      "pygments_lexer": "ipython3",
      "version": "3.12.4"
    }
  },
  "nbformat": 4,
  "nbformat_minor": 0
}
