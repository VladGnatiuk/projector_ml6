{
 "cells": [
  {
   "cell_type": "code",
   "execution_count": null,
   "metadata": {},
   "outputs": [],
   "source": [
    "# load train data"
   ]
  },
  {
   "cell_type": "code",
   "execution_count": null,
   "metadata": {},
   "outputs": [],
   "source": [
    "# make a research on the data and determine the best way to handle missing values\n",
    "\n",
    "# implement the best way to handle missing values\n",
    "# implement the best way to handle categorical values (encoding)"
   ]
  },
  {
   "cell_type": "code",
   "execution_count": null,
   "metadata": {},
   "outputs": [],
   "source": [
    "# define validation method\n",
    "# use StratifiedKFold to split the data into folds or KFold if you don't need stratification"
   ]
  },
  {
   "cell_type": "code",
   "execution_count": null,
   "metadata": {},
   "outputs": [],
   "source": [
    "# define the regression model\n",
    "# define the hyperparameters grid\n",
    "# define the grid search with cross validation using previously defined validation method\n",
    "# train the model\n",
    "# print the best hyperparameters\n",
    "# print the best score on train and validation data, estimate the generalization error"
   ]
  },
  {
   "cell_type": "code",
   "execution_count": null,
   "metadata": {},
   "outputs": [],
   "source": [
    "# define the decision tree model\n",
    "# define the hyperparameters grid\n",
    "# define the grid search with cross validation using previously defined validation method\n",
    "# train the model\n",
    "# print the best hyperparameters\n",
    "# print the best score on train and validation data, estimate the generalization error"
   ]
  },
  {
   "cell_type": "code",
   "execution_count": null,
   "metadata": {},
   "outputs": [],
   "source": [
    "# compare the results of the two models\n",
    "# make a conclusion on which model is better and why"
   ]
  },
  {
   "cell_type": "code",
   "execution_count": null,
   "metadata": {},
   "outputs": [],
   "source": [
    "# retrain the best models (both regression and DT) on the whole train data"
   ]
  },
  {
   "cell_type": "code",
   "execution_count": null,
   "metadata": {},
   "outputs": [],
   "source": [
    "# load test data\n",
    "# do the same preprocessing as for train data\n",
    "\n",
    "# using retrained models make predictions on the test data for both regression and DT models\n",
    "# save the predictions to a file\n",
    "# upload the predictions to Kaggle and make a submission\n",
    "# report the score you got and compare it with the score you got on the validation data\n",
    "# make a conclusion on how well the models generalizes"
   ]
  }
 ],
 "metadata": {
  "language_info": {
   "name": "python"
  }
 },
 "nbformat": 4,
 "nbformat_minor": 2
}
