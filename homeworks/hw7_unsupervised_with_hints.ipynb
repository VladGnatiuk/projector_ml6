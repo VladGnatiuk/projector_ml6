{
  "cells": [
    {
      "cell_type": "markdown",
      "metadata": {
        "id": "UMms33J4jeDZ"
      },
      "source": [
        "# Homework\n",
        "\n",
        "1. Do clustering on the digits dataset from sklearn using at least three different approaches (k-means, hierarchical, birch)\n",
        "2. Evaluate the quality of clustering using three metrics from the lectureApply dimensionality reduction, then do clustering and calculate metrics.\n",
        "3. Make a comparison table of different clustering approaches with and without dimensionality reduction.\n",
        "4. Make a conclusion about how to perform validation and what metrics to use in a real-life task\n",
        "\n",
        "In this task, we want to use 10 clusters, as we have 10 digits."
      ]
    },
    {
      "cell_type": "code",
      "execution_count": null,
      "metadata": {},
      "outputs": [],
      "source": [
        "# load the digits dataset\n",
        "\n",
        "# train k-means on the digits dataset\n",
        "# calculate metrics for the k-means model: silhouette_score, adjusted_rand_score, adjusted_mutual_info_score\n",
        "# save the metrics\n",
        "# do the same for other two clustering algorithms of your choice"
      ]
    },
    {
      "cell_type": "code",
      "execution_count": null,
      "metadata": {},
      "outputs": [],
      "source": [
        "# apply PCA to the dataset\n",
        "# train the same clustering algorithms on the PCA-transformed dataset\n",
        "# calculate the same metrics for the PCA-transformed dataset\n",
        "# save the metrics\n",
        "# do the same with TSNE and UMAP transformations"
      ]
    },
    {
      "cell_type": "code",
      "execution_count": null,
      "metadata": {},
      "outputs": [],
      "source": [
        "# compare the metrics for the original dataset and the transformed datasets\n",
        "# make a conclusion about the quality of the clustering algorithms and the transformations"
      ]
    },
    {
      "cell_type": "code",
      "execution_count": null,
      "metadata": {},
      "outputs": [],
      "source": [
        "# what metrics are the most informative in this case?\n",
        "# what metrics should be used to compare the quality of the clustering algorithms and the transformations in real-life, when the true labels are unknown?\n",
        "# provide an example of a real-life task and explain the validation strategy and metrics for it "
      ]
    }
  ],
  "metadata": {
    "colab": {
      "collapsed_sections": [],
      "name": "Bagging homework.ipynb",
      "provenance": []
    },
    "kernelspec": {
      "display_name": "Python 3",
      "name": "python3"
    },
    "language_info": {
      "name": "python"
    }
  },
  "nbformat": 4,
  "nbformat_minor": 0
}
