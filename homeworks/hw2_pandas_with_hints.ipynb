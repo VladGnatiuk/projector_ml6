{
 "cells": [
  {
   "cell_type": "markdown",
   "metadata": {},
   "source": [
    "# Homework"
   ]
  },
  {
   "cell_type": "markdown",
   "metadata": {},
   "source": [
    "1. Вікіпедії яких країн доступні в цьому датасеті?\n",
    "\n",
    "- Write regexp to extract country code from the page URL. \n",
    "- Add a new column with the language code. \n",
    "- Then, use Groupby to calculate the number of pages. \n",
    "\n",
    "2. Скільки сторінок французькою є на Вікіпедії у датасеті?\n",
    "\n",
    "- Just filter by language from the previous task\n",
    "\n",
    "3. Вивести топ-3 статті для кожної мови за квітень 2016 року.\n",
    "\n",
    "- Filter by date from 01/04/2016 (incl) to 01/05/2016(excl). \n",
    "- Calculate the number of views on each page\n",
    "- Sort values by the number of views\n",
    "- Use groupby and take top-3 pages from each group (without loops)\n",
    "\n",
    "4. Знайти сторінку англійської вікіпедії з найбільшим середнім/медіаною/дисперсією за липень 2016 року.\n",
    "\n",
    "- Filter by date\n",
    "- Calculate each statistics for every page and save them as a new column\n",
    "- Show top-1 page by each statistics\n",
    "\n",
    "5. Які статті отримали найбільший буст по переглядах за травень 2016 року в абсолютних показниках і відносних. Розглядати сторінки щонайменше з 1000 переглядами.\n",
    "\n",
    "- Filter two columns: 01/05/2016 and 31/05/2016\n",
    "- Filter pages that have less than 1000 views on 31/05/2016\n",
    "– Add two columns of the absolute and relative difference of views between 1 and 31 May\n",
    "- Show top-3 pages by each attribute\n",
    "\n",
    "6. Візуалізувати кількість переглядів для топ-5 сторінок англійської Вікіпедії на одному графіку за перше півріччя 2016 року.\n",
    "\n",
    "- Filter dates and language\n",
    "- Groupby pages and sum all the views\n",
    "- Visualize top-5 on a graph\n",
    "\n",
    "7. Порівняти розподіли німецьких і французьких сторінок вікіпедії за червень 2016 року.\n",
    "\n",
    "- Filter by date and language\n",
    "– Sum views by each page\n",
    "- Use sns.kdeplot to visualize two distributions\n",
    "\n",
    "8. Порівняти кількість переглядів для сторінок японської вікіпедії з розбивкою по днях тижня.\n",
    "\n",
    "- Filter by language\n",
    "- Extract from each date the day of the week\n",
    "- Groupby by day of the week and calculate the mean number of views\n",
    "- Visualize \n"
   ]
  },
  {
   "cell_type": "markdown",
   "metadata": {},
   "source": []
  }
 ],
 "metadata": {
  "kernelspec": {
   "display_name": ".venv",
   "language": "python",
   "name": "python3"
  },
  "language_info": {
   "codemirror_mode": {
    "name": "ipython",
    "version": 3
   },
   "file_extension": ".py",
   "mimetype": "text/x-python",
   "name": "python",
   "nbconvert_exporter": "python",
   "pygments_lexer": "ipython3",
   "version": "3.7.6"
  }
 },
 "nbformat": 4,
 "nbformat_minor": 2
}
