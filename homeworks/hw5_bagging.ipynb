{
  "cells": [
    {
      "cell_type": "markdown",
      "metadata": {
        "id": "UMms33J4jeDZ"
      },
      "source": [
        "1. Use any binary classification dataset\n",
        "2. Define validation strategy and use it for all next steps without changes\n",
        "3. Train decision tree model and estimate performance on validation\n",
        "4. Train bagging model with decision tree as a base model and estimate performance on validation\n",
        "5. Write your own bagging implementation:\n",
        "  <br>5.1. Define init for our CustomBaggingClassifier\n",
        "  <br>5.2. Write fit as described in lecture: divide train data on n parts (`n_estimators` in CustomBaggingClassifier), train `base_estimator` on each part and save these models inside class\n",
        "  <br>5.3. For predictions we should use all saved models and combine their predictions (as voting)\n",
        "6. Compare performance of sklearn bagging model with your own implementation"
      ]
    },
    {
      "cell_type": "code",
      "execution_count": null,
      "metadata": {
        "id": "ZSixk8wXjZJZ"
      },
      "outputs": [],
      "source": [
        "class CustomBaggingClassifier:\n",
        "    def __init__(self, base_estimator, n_estimators, max_samples, max_features):\n",
        "        ...\n",
        "  \n",
        "    def fit(X, y):\n",
        "        ...\n",
        "        \n",
        "    def predict(X):\n",
        "        ...\n",
        "\n",
        "    def predict_proba(X):\n",
        "        ...\n",
        "\n",
        "    def get_params(self):\n",
        "        ...\n",
        "    \n",
        "    def set_params(self):\n",
        "        ..."
      ]
    }
  ],
  "metadata": {
    "colab": {
      "collapsed_sections": [],
      "name": "Bagging homework.ipynb",
      "provenance": []
    },
    "kernelspec": {
      "display_name": "Python 3",
      "name": "python3"
    },
    "language_info": {
      "name": "python"
    }
  },
  "nbformat": 4,
  "nbformat_minor": 0
}
