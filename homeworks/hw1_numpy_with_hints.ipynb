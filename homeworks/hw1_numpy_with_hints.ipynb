{
 "cells": [
  {
   "cell_type": "markdown",
   "metadata": {},
   "source": [
    "# Homework\n",
    "\n",
    "\n",
    "Can you make a perfect classifier? Let's consider the next dataset:"
   ]
  },
  {
   "cell_type": "code",
   "execution_count": null,
   "metadata": {},
   "outputs": [],
   "source": [
    "import numpy as np\n",
    "import sklearn.datasets\n",
    "from matplotlib import pyplot as plt\n",
    "\n",
    "np.random.seed(0)\n",
    "# X, y = sklearn.datasets.make_moons(200, noise=0.20)\n",
    "X, y = sklearn.datasets.make_blobs(200, centers=2, cluster_std=0.9)\n",
    "plt.scatter(X[:,0], X[:,1], s=40, c=y, cmap=plt.cm.Spectral)"
   ]
  },
  {
   "cell_type": "markdown",
   "metadata": {},
   "source": [
    "#### 1. Try to tune the learning rate and number of iterations\n",
    "*What is the lowest error with the current approach?*\n",
    "\n",
    "Add early stopping to find the optimal number of iterations automatically.\n",
    "\n",
    "Visualize the decision boundary"
   ]
  },
  {
   "cell_type": "code",
   "execution_count": 2,
   "metadata": {},
   "outputs": [],
   "source": [
    "# copy code from the lecture\n",
    "\n",
    "# create separate variables for the lowest metrics and the number of the lowest metrics\n",
    "# compare on each iteration the current metrics with the lowest metrics\n",
    "# if the current metrics are lower than the lowest metrics, then the lowest metrics are updated\n",
    "\n",
    "# use for loop to iterate over the range of the learning rates"
   ]
  },
  {
   "cell_type": "markdown",
   "metadata": {},
   "source": [
    "#### 2. It's time to add learnable bias\n",
    "*What is the lowest error now?*\n",
    "\n",
    "Visualize the decision boundary"
   ]
  },
  {
   "cell_type": "code",
   "execution_count": 4,
   "metadata": {},
   "outputs": [],
   "source": [
    "# copy code from the previos task\n",
    "# change weights shape to (3,)\n",
    "# adjust data with adding a constant column\n",
    "# do the same with x in plot_decision_boundary lambda function\n"
   ]
  },
  {
   "cell_type": "markdown",
   "metadata": {},
   "source": [
    "#### 3*. Let's expand it for three classes\n",
    "\n",
    "**Idea:** we need to train weights for each class \n",
    "\n",
    "\\begin{equation}\n",
    "y_p =   \\underset{c \\,=\\, 0,...,C-1}{\\text{argmax}} \\,\\,\\,\\mathring{\\mathbf{x}}_{p}^T \\mathbf{w}_c^{\\,}.\n",
    "\\end{equation}\n",
    "\n",
    "Visualize the decision boundary"
   ]
  },
  {
   "cell_type": "code",
   "execution_count": null,
   "metadata": {},
   "outputs": [],
   "source": [
    "# change weights shape to support three classes (previously it supported only 1 class)\n",
    "# adjust data with adding a constant column\n",
    "# do the same with x in plot_decision_boundary lambda function\n",
    "# transform y to one-hot encoding\n",
    "# change the activation function according to the formula above\n",
    "# calculate diff between y-one-hot and one-hot predictions\n"
   ]
  }
 ],
 "metadata": {
  "kernelspec": {
   "display_name": ".venv",
   "language": "python",
   "name": "python3"
  },
  "language_info": {
   "codemirror_mode": {
    "name": "ipython",
    "version": 3
   },
   "file_extension": ".py",
   "mimetype": "text/x-python",
   "name": "python",
   "nbconvert_exporter": "python",
   "pygments_lexer": "ipython3",
   "version": "3.7.6"
  }
 },
 "nbformat": 4,
 "nbformat_minor": 2
}
