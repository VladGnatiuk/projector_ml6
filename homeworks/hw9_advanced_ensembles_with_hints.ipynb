{
  "cells": [
    {
      "cell_type": "markdown",
      "metadata": {
        "id": "UMms33J4jeDZ"
      },
      "source": [
        "# Homework\n",
        "\n",
        "Improve results on the dataset from previous homework with:\n",
        "\n",
        "1. Simple ensembling approaches (mean, median, etc.)\n",
        "2. Stacking"
      ]
    },
    {
      "cell_type": "code",
      "execution_count": null,
      "metadata": {},
      "outputs": [],
      "source": [
        "# Replicate your best model from the previous homework (from the boosting or feature engineering task).\n",
        "# Train this model on the training data, evaluate it on local validation and test data.\n",
        "# save predictions by folds for this model"
      ]
    },
    {
      "cell_type": "code",
      "execution_count": null,
      "metadata": {},
      "outputs": [],
      "source": [
        "# using the same validation split do the following:\n",
        "# except for the best model, train several other models (e.g. xgboost, lightgbm, catboost) on the training data\n",
        "# maintain only models that are close in metrics to the best model\n",
        "# save predictions by folds for these models"
      ]
    },
    {
      "cell_type": "code",
      "execution_count": null,
      "metadata": {},
      "outputs": [],
      "source": [
        "# calculate the correlation matrix between different models predictions\n",
        "# try to build a simple ensemble (e.g. arithmetic mean, weighted average) of models to improve the quality of the best model"
      ]
    },
    {
      "cell_type": "code",
      "execution_count": null,
      "metadata": {},
      "outputs": [],
      "source": [
        "# stacking training and evaluation:\n",
        "# use the predictions of the models from the previous step as features (make predictions by folds)\n",
        "# train a new model (think about the best algorithm for a meta-model) on these features to predict the target\n",
        "# evaluate the meta-model on the local validation. it should be better than the best model and simple ensembles\n",
        "# train the meta-model on the training data"
      ]
    },
    {
      "cell_type": "code",
      "execution_count": null,
      "metadata": {},
      "outputs": [],
      "source": [
        "# stacking prediction:\n",
        "# train base models on the entire training data\n",
        "# use these models to predict the target on the test data\n",
        "# add the predictions to features to predict the target with the meta-model\n",
        "# submit the predictions for the test data"
      ]
    }
  ],
  "metadata": {
    "colab": {
      "collapsed_sections": [],
      "name": "Bagging homework.ipynb",
      "provenance": []
    },
    "kernelspec": {
      "display_name": "Python 3",
      "name": "python3"
    },
    "language_info": {
      "name": "python"
    }
  },
  "nbformat": 4,
  "nbformat_minor": 0
}
