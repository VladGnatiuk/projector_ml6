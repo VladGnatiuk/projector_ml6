{
  "cells": [
    {
      "cell_type": "markdown",
      "metadata": {
        "id": "UMms33J4jeDZ"
      },
      "source": [
        "1. Use any binary classification dataset\n",
        "2. Define validation strategy and use it for all next steps without changes\n",
        "3. Train decision tree model and estimate performance on validation\n",
        "4. Train bagging model with decision tree as a base model and estimate performance on validation\n",
        "5. Write your own bagging implementation:\n",
        "  <br>5.1. Define init for our CustomBaggingClassifier\n",
        "  <br>5.2. Write fit as described in lecture: divide train data on n parts (`n_estimators` in CustomBaggingClassifier), train `base_estimator` on each part and save these models inside class\n",
        "  <br>5.3. For predictions we should use all saved models and combine their predictions (as voting)\n",
        "6. Compare performance of sklearn bagging model with your own implementation"
      ]
    },
    {
      "cell_type": "code",
      "execution_count": null,
      "metadata": {},
      "outputs": [],
      "source": [
        "# load train data\n",
        "# reuse the preprocessing approach from the previous homework\n",
        "\n",
        "# reuse validation approach from the previous homework. \n",
        "# it should be exactly the same because we want to compare the models"
      ]
    },
    {
      "cell_type": "code",
      "execution_count": null,
      "metadata": {},
      "outputs": [],
      "source": [
        "# define the bagging model (from sklearn)\n",
        "# define the hyperparameters grid\n",
        "# define the grid search with cross validation using previously defined validation method\n",
        "# train the model\n",
        "# print the best hyperparameters\n",
        "# print the best score on train and validation data, estimate the generalization error"
      ]
    },
    {
      "cell_type": "code",
      "execution_count": null,
      "metadata": {
        "id": "ZSixk8wXjZJZ"
      },
      "outputs": [],
      "source": [
        "# implement the custom bagging model\n",
        "class CustomBaggingClassifier:\n",
        "    def __init__(self, base_estimator, n_estimators, max_samples, max_features):\n",
        "        # define the class constructor with the following parameters:\n",
        "        # base_estimator - an instance of the base estimator, which should be cloned n times\n",
        "        # n_estimators - the number of estimators (clones of the base_estimator)\n",
        "        # max_samples - the number of samples to draw to train each estimator\n",
        "        # max_features - the number of features to draw to train each estimator\n",
        "        ...\n",
        "  \n",
        "    def fit(X, y):\n",
        "        # train n_estimators base estimators on the random samples of X and y\n",
        "        # use for loop to train each estimator\n",
        "        # on each iteration:\n",
        "        # 1. draw max_samples samples from X with replacement\n",
        "        # 2. draw max_features features from X without replacement\n",
        "        # 3. train the estimator on the drawn samples and features\n",
        "        # 4. save the trained estimator (don't forget to clone it)\n",
        "        ...\n",
        "        \n",
        "    def predict(X):\n",
        "        # predict the labels using all base estimators and return the most frequent label\n",
        "        ...\n",
        "\n",
        "    def predict_proba(X):\n",
        "        # predict the probabilities of each class using all base estimators and return the mean value\n",
        "        ...\n",
        "\n",
        "    def get_params(self):\n",
        "        # return the dictionary with the hyperparameters to use in grid search\n",
        "        ...\n",
        "    \n",
        "    def set_params(self):\n",
        "        # set the hyperparameters from the dictionary to use in grid search\n",
        "        ..."
      ]
    },
    {
      "cell_type": "code",
      "execution_count": null,
      "metadata": {},
      "outputs": [],
      "source": [
        "# define the bagging model (your custom implementation)\n",
        "# define the hyperparameters grid\n",
        "# define the grid search with cross validation using previously defined validation method\n",
        "# train the model\n",
        "# print the best hyperparameters\n",
        "# print the best score on train and validation data, estimate the generalization error"
      ]
    },
    {
      "cell_type": "code",
      "execution_count": null,
      "metadata": {},
      "outputs": [],
      "source": [
        "# define the random forest model (your custom implementation)\n",
        "# define the hyperparameters grid\n",
        "# define the grid search with cross validation using previously defined validation method\n",
        "# train the model\n",
        "# print the best hyperparameters\n",
        "# print the best score on train and validation data, estimate the generalization error"
      ]
    },
    {
      "cell_type": "code",
      "execution_count": null,
      "metadata": {},
      "outputs": [],
      "source": [
        "# compare the results of the three models from this homework and with DT from the previous homework\n",
        "# make a conclusion on which model is better and why\n",
        "# if your custom implementation is much worse than the sklearn one, try to improve it"
      ]
    },
    {
      "cell_type": "code",
      "execution_count": null,
      "metadata": {},
      "outputs": [],
      "source": [
        "# load test data\n",
        "# do the same preprocessing as for train data\n",
        "\n",
        "# using retrained models make predictions on the test data for all new three models\n",
        "# save the predictions to a file\n",
        "# upload the predictions to Kaggle and make a submission\n",
        "# report the score you got and compare it with the score you got on the validation data\n",
        "# make a conclusion on how well the models generalizes"
      ]
    }
  ],
  "metadata": {
    "colab": {
      "collapsed_sections": [],
      "name": "Bagging homework.ipynb",
      "provenance": []
    },
    "kernelspec": {
      "display_name": "Python 3",
      "name": "python3"
    },
    "language_info": {
      "name": "python"
    }
  },
  "nbformat": 4,
  "nbformat_minor": 0
}
