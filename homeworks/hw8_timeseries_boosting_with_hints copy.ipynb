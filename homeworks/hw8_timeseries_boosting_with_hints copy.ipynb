{
  "cells": [
    {
      "cell_type": "markdown",
      "metadata": {
        "id": "UMms33J4jeDZ"
      },
      "source": [
        "# Homework\n",
        "\n",
        "1. Train a baseline predictions with different statistics and various time windows, validate and make predictions on test set.\n",
        "2. Train a boosting model, validate and make predictions on test set. (optional)"
      ]
    },
    {
      "cell_type": "code",
      "execution_count": null,
      "metadata": {},
      "outputs": [],
      "source": [
        "# repeat the training pipeline from workshop lecture\n",
        "# make three submissions to the leaderboard to see how well the model is doing and if results are correlated with the local validation"
      ]
    },
    {
      "cell_type": "code",
      "execution_count": null,
      "metadata": {},
      "outputs": [],
      "source": [
        "# replicate the approach as in the baseline\n",
        "# you create the same features as for baseline (previous values for each shop_id-item_id pair)\n",
        "# using the same validation train lightgbm model\n",
        "# you should achieve better results than baseline (as we use the same features as baseline but apply lightgbm model instead of simple statistics)\n",
        "# make predictions for the test set and submit them to the leaderboard\n",
        "\n",
        "# to improve the solution you can try adding new features that were mentioned in the lecture"
      ]
    }
  ],
  "metadata": {
    "colab": {
      "collapsed_sections": [],
      "name": "Bagging homework.ipynb",
      "provenance": []
    },
    "kernelspec": {
      "display_name": "Python 3",
      "name": "python3"
    },
    "language_info": {
      "name": "python"
    }
  },
  "nbformat": 4,
  "nbformat_minor": 0
}
